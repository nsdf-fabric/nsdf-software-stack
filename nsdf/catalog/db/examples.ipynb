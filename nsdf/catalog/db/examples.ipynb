{
 "cells": [
  {
   "cell_type": "code",
   "execution_count": 4,
   "metadata": {},
   "outputs": [
    {
     "data": {
      "application/javascript": "(function(root) {\n  function now() {\n    return new Date();\n  }\n\n  var force = true;\n\n  if (typeof root._bokeh_onload_callbacks === \"undefined\" || force === true) {\n    root._bokeh_onload_callbacks = [];\n    root._bokeh_is_loading = undefined;\n  }\n\n  if (typeof (root._bokeh_timeout) === \"undefined\" || force === true) {\n    root._bokeh_timeout = Date.now() + 5000;\n    root._bokeh_failed_load = false;\n  }\n\n  function run_callbacks() {\n    try {\n      root._bokeh_onload_callbacks.forEach(function(callback) {\n        if (callback != null)\n          callback();\n      });\n    } finally {\n      delete root._bokeh_onload_callbacks\n    }\n    console.debug(\"Bokeh: all callbacks have finished\");\n  }\n\n  function load_libs(css_urls, js_urls, js_modules, callback) {\n    if (css_urls == null) css_urls = [];\n    if (js_urls == null) js_urls = [];\n    if (js_modules == null) js_modules = [];\n\n    root._bokeh_onload_callbacks.push(callback);\n    if (root._bokeh_is_loading > 0) {\n      console.debug(\"Bokeh: BokehJS is being loaded, scheduling callback at\", now());\n      return null;\n    }\n    if (js_urls.length === 0 && js_modules.length === 0) {\n      run_callbacks();\n      return null;\n    }\n    console.debug(\"Bokeh: BokehJS not loaded, scheduling load and callback at\", now());\n\n    function on_load() {\n      root._bokeh_is_loading--;\n      if (root._bokeh_is_loading === 0) {\n        console.debug(\"Bokeh: all BokehJS libraries/stylesheets loaded\");\n        run_callbacks()\n      }\n    }\n\n    function on_error() {\n      console.error(\"failed to load \" + url);\n    }\n\n    for (var i = 0; i < css_urls.length; i++) {\n      var url = css_urls[i];\n      const element = document.createElement(\"link\");\n      element.onload = on_load;\n      element.onerror = on_error;\n      element.rel = \"stylesheet\";\n      element.type = \"text/css\";\n      element.href = url;\n      console.debug(\"Bokeh: injecting link tag for BokehJS stylesheet: \", url);\n      document.body.appendChild(element);\n    }\n\n    var skip = [];\n    if (window.requirejs) {\n      window.requirejs.config({'packages': {}, 'paths': {'tabulator': 'https://cdn.jsdelivr.net/npm/tabulator-tables@5.3.2/dist/js/tabulator', 'moment': 'https://cdn.jsdelivr.net/npm/luxon/build/global/luxon.min', 'gridstack': 'https://cdn.jsdelivr.net/npm/gridstack@4.2.5/dist/gridstack-h5', 'notyf': 'https://cdn.jsdelivr.net/npm/notyf@3/notyf.min'}, 'shim': {'gridstack': {'exports': 'GridStack'}}});\n      require([\"tabulator\"], function(Tabulator) {\n\twindow.Tabulator = Tabulator\n\ton_load()\n      })\n      require([\"moment\"], function(moment) {\n\twindow.moment = moment\n\ton_load()\n      })\n      require([\"gridstack\"], function(GridStack) {\n\twindow.GridStack = GridStack\n\ton_load()\n      })\n      require([\"notyf\"], function() {\n\ton_load()\n      })\n      root._bokeh_is_loading = css_urls.length + 4;\n    } else {\n      root._bokeh_is_loading = css_urls.length + js_urls.length + js_modules.length;\n    }    if (((window['Tabulator'] !== undefined) && (!(window['Tabulator'] instanceof HTMLElement))) || window.requirejs) {\n      var urls = ['https://cdn.holoviz.org/panel/0.14.1/dist/bundled/datatabulator/tabulator-tables@5.3.2/dist/js/tabulator.js'];\n      for (var i = 0; i < urls.length; i++) {\n        skip.push(urls[i])\n      }\n    }    if (((window['moment'] !== undefined) && (!(window['moment'] instanceof HTMLElement))) || window.requirejs) {\n      var urls = ['https://cdn.holoviz.org/panel/0.14.1/dist/bundled/datatabulator/luxon/build/global/luxon.min.js'];\n      for (var i = 0; i < urls.length; i++) {\n        skip.push(urls[i])\n      }\n    }    if (((window['GridStack'] !== undefined) && (!(window['GridStack'] instanceof HTMLElement))) || window.requirejs) {\n      var urls = ['https://cdn.holoviz.org/panel/0.14.1/dist/bundled/gridstack/gridstack@4.2.5/dist/gridstack-h5.js'];\n      for (var i = 0; i < urls.length; i++) {\n        skip.push(urls[i])\n      }\n    }    if (((window['Notyf'] !== undefined) && (!(window['Notyf'] instanceof HTMLElement))) || window.requirejs) {\n      var urls = ['https://cdn.holoviz.org/panel/0.14.1/dist/bundled/notificationarea/notyf@3/notyf.min.js'];\n      for (var i = 0; i < urls.length; i++) {\n        skip.push(urls[i])\n      }\n    }    for (var i = 0; i < js_urls.length; i++) {\n      var url = js_urls[i];\n      if (skip.indexOf(url) >= 0) {\n\tif (!window.requirejs) {\n\t  on_load();\n\t}\n\tcontinue;\n      }\n      var element = document.createElement('script');\n      element.onload = on_load;\n      element.onerror = on_error;\n      element.async = false;\n      element.src = url;\n      console.debug(\"Bokeh: injecting script tag for BokehJS library: \", url);\n      document.head.appendChild(element);\n    }\n    for (var i = 0; i < js_modules.length; i++) {\n      var url = js_modules[i];\n      if (skip.indexOf(url) >= 0) {\n\tif (!window.requirejs) {\n\t  on_load();\n\t}\n\tcontinue;\n      }\n      var element = document.createElement('script');\n      element.onload = on_load;\n      element.onerror = on_error;\n      element.async = false;\n      element.src = url;\n      element.type = \"module\";\n      console.debug(\"Bokeh: injecting script tag for BokehJS library: \", url);\n      document.head.appendChild(element);\n    }\n    if (!js_urls.length && !js_modules.length) {\n      on_load()\n    }\n  };\n\n  function inject_raw_css(css) {\n    const element = document.createElement(\"style\");\n    element.appendChild(document.createTextNode(css));\n    document.body.appendChild(element);\n  }\n\n  var js_urls = [\"https://cdn.holoviz.org/panel/0.14.1/dist/bundled/datatabulator/tabulator-tables@5.3.2/dist/js/tabulator.js\", \"https://cdn.holoviz.org/panel/0.14.1/dist/bundled/datatabulator/luxon/build/global/luxon.min.js\", \"https://cdn.bokeh.org/bokeh/release/bokeh-2.4.3.min.js\", \"https://cdn.bokeh.org/bokeh/release/bokeh-gl-2.4.3.min.js\", \"https://cdn.bokeh.org/bokeh/release/bokeh-widgets-2.4.3.min.js\", \"https://cdn.bokeh.org/bokeh/release/bokeh-tables-2.4.3.min.js\", \"https://cdn.bokeh.org/bokeh/release/bokeh-mathjax-2.4.3.min.js\", \"https://unpkg.com/@holoviz/panel@0.14.1/dist/panel.min.js\"];\n  var js_modules = [];\n  var css_urls = [\"https://cdn.holoviz.org/panel/0.14.1/dist/bundled/datatabulator/tabulator-tables@5.3.2/dist/css/tabulator_simple.min.css\", \"https://cdn.holoviz.org/panel/0.14.1/dist/css/widgets.css\", \"https://cdn.holoviz.org/panel/0.14.1/dist/css/debugger.css\", \"https://cdn.holoviz.org/panel/0.14.1/dist/css/json.css\", \"https://cdn.holoviz.org/panel/0.14.1/dist/css/markdown.css\", \"https://cdn.holoviz.org/panel/0.14.1/dist/css/loading.css\", \"https://cdn.holoviz.org/panel/0.14.1/dist/css/alerts.css\", \"https://cdn.holoviz.org/panel/0.14.1/dist/css/dataframe.css\", \"https://cdn.holoviz.org/panel/0.14.1/dist/css/card.css\"];\n  var inline_js = [    function(Bokeh) {\n      inject_raw_css(\"\\n    .bk.pn-loading.arc:before {\\n      background-image: url(\\\"data:image/svg+xml;base64,PHN2ZyB4bWxucz0iaHR0cDovL3d3dy53My5vcmcvMjAwMC9zdmciIHN0eWxlPSJtYXJnaW46IGF1dG87IGJhY2tncm91bmQ6IG5vbmU7IGRpc3BsYXk6IGJsb2NrOyBzaGFwZS1yZW5kZXJpbmc6IGF1dG87IiB2aWV3Qm94PSIwIDAgMTAwIDEwMCIgcHJlc2VydmVBc3BlY3RSYXRpbz0ieE1pZFlNaWQiPiAgPGNpcmNsZSBjeD0iNTAiIGN5PSI1MCIgZmlsbD0ibm9uZSIgc3Ryb2tlPSIjYzNjM2MzIiBzdHJva2Utd2lkdGg9IjEwIiByPSIzNSIgc3Ryb2tlLWRhc2hhcnJheT0iMTY0LjkzMzYxNDMxMzQ2NDE1IDU2Ljk3Nzg3MTQzNzgyMTM4Ij4gICAgPGFuaW1hdGVUcmFuc2Zvcm0gYXR0cmlidXRlTmFtZT0idHJhbnNmb3JtIiB0eXBlPSJyb3RhdGUiIHJlcGVhdENvdW50PSJpbmRlZmluaXRlIiBkdXI9IjFzIiB2YWx1ZXM9IjAgNTAgNTA7MzYwIDUwIDUwIiBrZXlUaW1lcz0iMDsxIj48L2FuaW1hdGVUcmFuc2Zvcm0+ICA8L2NpcmNsZT48L3N2Zz4=\\\");\\n      background-size: auto calc(min(50%, 400px));\\n    }\\n    \");\n    },    function(Bokeh) {\n      Bokeh.set_log_level(\"info\");\n    },\nfunction(Bokeh) {} // ensure no trailing comma for IE\n  ];\n\n  function run_inline_js() {\n    if ((root.Bokeh !== undefined) || (force === true)) {\n      for (var i = 0; i < inline_js.length; i++) {\n        inline_js[i].call(root, root.Bokeh);\n      }} else if (Date.now() < root._bokeh_timeout) {\n      setTimeout(run_inline_js, 100);\n    } else if (!root._bokeh_failed_load) {\n      console.log(\"Bokeh: BokehJS failed to load within specified timeout.\");\n      root._bokeh_failed_load = true;\n    }\n  }\n\n  if (root._bokeh_is_loading === 0) {\n    console.debug(\"Bokeh: BokehJS loaded, going straight to plotting\");\n    run_inline_js();\n  } else {\n    load_libs(css_urls, js_urls, js_modules, function() {\n      console.debug(\"Bokeh: BokehJS plotting callback run at\", now());\n      run_inline_js();\n    });\n  }\n}(window));",
      "application/vnd.holoviews_load.v0+json": ""
     },
     "metadata": {},
     "output_type": "display_data"
    },
    {
     "data": {
      "application/javascript": "\nif ((window.PyViz === undefined) || (window.PyViz instanceof HTMLElement)) {\n  window.PyViz = {comms: {}, comm_status:{}, kernels:{}, receivers: {}, plot_index: []}\n}\n\n\n    function JupyterCommManager() {\n    }\n\n    JupyterCommManager.prototype.register_target = function(plot_id, comm_id, msg_handler) {\n      if (window.comm_manager || ((window.Jupyter !== undefined) && (Jupyter.notebook.kernel != null))) {\n        var comm_manager = window.comm_manager || Jupyter.notebook.kernel.comm_manager;\n        comm_manager.register_target(comm_id, function(comm) {\n          comm.on_msg(msg_handler);\n        });\n      } else if ((plot_id in window.PyViz.kernels) && (window.PyViz.kernels[plot_id])) {\n        window.PyViz.kernels[plot_id].registerCommTarget(comm_id, function(comm) {\n          comm.onMsg = msg_handler;\n        });\n      } else if (typeof google != 'undefined' && google.colab.kernel != null) {\n        google.colab.kernel.comms.registerTarget(comm_id, (comm) => {\n          var messages = comm.messages[Symbol.asyncIterator]();\n          function processIteratorResult(result) {\n            var message = result.value;\n            console.log(message)\n            var content = {data: message.data, comm_id};\n            var buffers = []\n            for (var buffer of message.buffers || []) {\n              buffers.push(new DataView(buffer))\n            }\n            var metadata = message.metadata || {};\n            var msg = {content, buffers, metadata}\n            msg_handler(msg);\n            return messages.next().then(processIteratorResult);\n          }\n          return messages.next().then(processIteratorResult);\n        })\n      }\n    }\n\n    JupyterCommManager.prototype.get_client_comm = function(plot_id, comm_id, msg_handler) {\n      if (comm_id in window.PyViz.comms) {\n        return window.PyViz.comms[comm_id];\n      } else if (window.comm_manager || ((window.Jupyter !== undefined) && (Jupyter.notebook.kernel != null))) {\n        var comm_manager = window.comm_manager || Jupyter.notebook.kernel.comm_manager;\n        var comm = comm_manager.new_comm(comm_id, {}, {}, {}, comm_id);\n        if (msg_handler) {\n          comm.on_msg(msg_handler);\n        }\n      } else if ((plot_id in window.PyViz.kernels) && (window.PyViz.kernels[plot_id])) {\n        var comm = window.PyViz.kernels[plot_id].connectToComm(comm_id);\n        comm.open();\n        if (msg_handler) {\n          comm.onMsg = msg_handler;\n        }\n      } else if (typeof google != 'undefined' && google.colab.kernel != null) {\n        var comm_promise = google.colab.kernel.comms.open(comm_id)\n        comm_promise.then((comm) => {\n          window.PyViz.comms[comm_id] = comm;\n          if (msg_handler) {\n            var messages = comm.messages[Symbol.asyncIterator]();\n            function processIteratorResult(result) {\n              var message = result.value;\n              var content = {data: message.data};\n              var metadata = message.metadata || {comm_id};\n              var msg = {content, metadata}\n              msg_handler(msg);\n              return messages.next().then(processIteratorResult);\n            }\n            return messages.next().then(processIteratorResult);\n          }\n        }) \n        var sendClosure = (data, metadata, buffers, disposeOnDone) => {\n          return comm_promise.then((comm) => {\n            comm.send(data, metadata, buffers, disposeOnDone);\n          });\n        };\n        var comm = {\n          send: sendClosure\n        };\n      }\n      window.PyViz.comms[comm_id] = comm;\n      return comm;\n    }\n    window.PyViz.comm_manager = new JupyterCommManager();\n    \n\n\nvar JS_MIME_TYPE = 'application/javascript';\nvar HTML_MIME_TYPE = 'text/html';\nvar EXEC_MIME_TYPE = 'application/vnd.holoviews_exec.v0+json';\nvar CLASS_NAME = 'output';\n\n/**\n * Render data to the DOM node\n */\nfunction render(props, node) {\n  var div = document.createElement(\"div\");\n  var script = document.createElement(\"script\");\n  node.appendChild(div);\n  node.appendChild(script);\n}\n\n/**\n * Handle when a new output is added\n */\nfunction handle_add_output(event, handle) {\n  var output_area = handle.output_area;\n  var output = handle.output;\n  if ((output.data == undefined) || (!output.data.hasOwnProperty(EXEC_MIME_TYPE))) {\n    return\n  }\n  var id = output.metadata[EXEC_MIME_TYPE][\"id\"];\n  var toinsert = output_area.element.find(\".\" + CLASS_NAME.split(' ')[0]);\n  if (id !== undefined) {\n    var nchildren = toinsert.length;\n    var html_node = toinsert[nchildren-1].children[0];\n    html_node.innerHTML = output.data[HTML_MIME_TYPE];\n    var scripts = [];\n    var nodelist = html_node.querySelectorAll(\"script\");\n    for (var i in nodelist) {\n      if (nodelist.hasOwnProperty(i)) {\n        scripts.push(nodelist[i])\n      }\n    }\n\n    scripts.forEach( function (oldScript) {\n      var newScript = document.createElement(\"script\");\n      var attrs = [];\n      var nodemap = oldScript.attributes;\n      for (var j in nodemap) {\n        if (nodemap.hasOwnProperty(j)) {\n          attrs.push(nodemap[j])\n        }\n      }\n      attrs.forEach(function(attr) { newScript.setAttribute(attr.name, attr.value) });\n      newScript.appendChild(document.createTextNode(oldScript.innerHTML));\n      oldScript.parentNode.replaceChild(newScript, oldScript);\n    });\n    if (JS_MIME_TYPE in output.data) {\n      toinsert[nchildren-1].children[1].textContent = output.data[JS_MIME_TYPE];\n    }\n    output_area._hv_plot_id = id;\n    if ((window.Bokeh !== undefined) && (id in Bokeh.index)) {\n      window.PyViz.plot_index[id] = Bokeh.index[id];\n    } else {\n      window.PyViz.plot_index[id] = null;\n    }\n  } else if (output.metadata[EXEC_MIME_TYPE][\"server_id\"] !== undefined) {\n    var bk_div = document.createElement(\"div\");\n    bk_div.innerHTML = output.data[HTML_MIME_TYPE];\n    var script_attrs = bk_div.children[0].attributes;\n    for (var i = 0; i < script_attrs.length; i++) {\n      toinsert[toinsert.length - 1].childNodes[1].setAttribute(script_attrs[i].name, script_attrs[i].value);\n    }\n    // store reference to server id on output_area\n    output_area._bokeh_server_id = output.metadata[EXEC_MIME_TYPE][\"server_id\"];\n  }\n}\n\n/**\n * Handle when an output is cleared or removed\n */\nfunction handle_clear_output(event, handle) {\n  var id = handle.cell.output_area._hv_plot_id;\n  var server_id = handle.cell.output_area._bokeh_server_id;\n  if (((id === undefined) || !(id in PyViz.plot_index)) && (server_id !== undefined)) { return; }\n  var comm = window.PyViz.comm_manager.get_client_comm(\"hv-extension-comm\", \"hv-extension-comm\", function () {});\n  if (server_id !== null) {\n    comm.send({event_type: 'server_delete', 'id': server_id});\n    return;\n  } else if (comm !== null) {\n    comm.send({event_type: 'delete', 'id': id});\n  }\n  delete PyViz.plot_index[id];\n  if ((window.Bokeh !== undefined) & (id in window.Bokeh.index)) {\n    var doc = window.Bokeh.index[id].model.document\n    doc.clear();\n    const i = window.Bokeh.documents.indexOf(doc);\n    if (i > -1) {\n      window.Bokeh.documents.splice(i, 1);\n    }\n  }\n}\n\n/**\n * Handle kernel restart event\n */\nfunction handle_kernel_cleanup(event, handle) {\n  delete PyViz.comms[\"hv-extension-comm\"];\n  window.PyViz.plot_index = {}\n}\n\n/**\n * Handle update_display_data messages\n */\nfunction handle_update_output(event, handle) {\n  handle_clear_output(event, {cell: {output_area: handle.output_area}})\n  handle_add_output(event, handle)\n}\n\nfunction register_renderer(events, OutputArea) {\n  function append_mime(data, metadata, element) {\n    // create a DOM node to render to\n    var toinsert = this.create_output_subarea(\n    metadata,\n    CLASS_NAME,\n    EXEC_MIME_TYPE\n    );\n    this.keyboard_manager.register_events(toinsert);\n    // Render to node\n    var props = {data: data, metadata: metadata[EXEC_MIME_TYPE]};\n    render(props, toinsert[0]);\n    element.append(toinsert);\n    return toinsert\n  }\n\n  events.on('output_added.OutputArea', handle_add_output);\n  events.on('output_updated.OutputArea', handle_update_output);\n  events.on('clear_output.CodeCell', handle_clear_output);\n  events.on('delete.Cell', handle_clear_output);\n  events.on('kernel_ready.Kernel', handle_kernel_cleanup);\n\n  OutputArea.prototype.register_mime_type(EXEC_MIME_TYPE, append_mime, {\n    safe: true,\n    index: 0\n  });\n}\n\nif (window.Jupyter !== undefined) {\n  try {\n    var events = require('base/js/events');\n    var OutputArea = require('notebook/js/outputarea').OutputArea;\n    if (OutputArea.prototype.mime_types().indexOf(EXEC_MIME_TYPE) == -1) {\n      register_renderer(events, OutputArea);\n    }\n  } catch(err) {\n  }\n}\n",
      "application/vnd.holoviews_load.v0+json": ""
     },
     "metadata": {},
     "output_type": "display_data"
    },
    {
     "data": {
      "text/html": [
       "<style>.bk-root, .bk-root .bk:before, .bk-root .bk:after {\n",
       "  font-family: var(--jp-ui-font-size1);\n",
       "  font-size: var(--jp-ui-font-size1);\n",
       "  color: var(--jp-ui-font-color1);\n",
       "}\n",
       "</style>"
      ]
     },
     "metadata": {},
     "output_type": "display_data"
    },
    {
     "name": "stdout",
     "output_type": "stream",
     "text": [
      "Clickhouse connected\n"
     ]
    }
   ],
   "source": [
    "import pandas as pd\n",
    "import numpy as np\n",
    "import panel as pn\n",
    "import matplotlib.pyplot as plt\n",
    "import os,sys\n",
    "from clickhouse_driver import connect,Client\n",
    "from pprint import pprint\n",
    "import yaml\n",
    "\n",
    "pn.extension()\n",
    "pn.extension('tabulator')\n",
    "\n",
    "# load `.env`\n",
    "with open(\".env\") as f:\n",
    "\tfor line in [line for line in f  if not line.startswith('#') and line.strip()]:\n",
    "\t\tkey, value = line.strip().split('=', 1)\n",
    "\t\tos.environ[key]=value\n",
    "  \n",
    "client=Client(host= os.environ[\"CLICKHOUSE_HOST\"], \n",
    "              port=str(os.environ[\"CLICKHOUSE_PORT\"]), \n",
    "              user=os.environ[\"CLICKHOUSE_USER\"], \n",
    "              password=os.environ[\"CLICKHOUSE_PASSWORD\"], \n",
    "              secure= os.environ[\"CLICKHOUSE_SECURE\"])\n",
    "\n",
    "print(\"Clickhouse connected\")"
   ]
  },
  {
   "cell_type": "code",
   "execution_count": 5,
   "metadata": {},
   "outputs": [
    {
     "name": "stdout",
     "output_type": "stream",
     "text": [
      "CPU times: user 3.82 ms, sys: 3.21 ms, total: 7.03 ms\n",
      "Wall time: 247 ms\n"
     ]
    }
   ],
   "source": [
    "%%time\n",
    "catalogs = client.execute(\"\"\"\n",
    "SELECT catalog, SUM(tot_size) as tot_size, SUM(num_files) as num_files\n",
    "FROM nsdf.aggregated_catalog \n",
    "GROUP BY catalog \n",
    "ORDER by tot_size DESC\n",
    "\"\"\")"
   ]
  },
  {
   "cell_type": "code",
   "execution_count": 6,
   "metadata": {},
   "outputs": [
    {
     "name": "stdout",
     "output_type": "stream",
     "text": [
      "{0: 'catalog', 1: 'tot_size', 2: 'num_files'}\n"
     ]
    },
    {
     "data": {},
     "metadata": {},
     "output_type": "display_data"
    },
    {
     "data": {
      "application/vnd.holoviews_exec.v0+json": "",
      "text/html": [
       "<div id='1070'>\n",
       "  <div class=\"bk-root\" id=\"9b349c50-5a39-4aa4-9ebf-eb0cb7154556\" data-root-id=\"1070\"></div>\n",
       "</div>\n",
       "<script type=\"application/javascript\">(function(root) {\n",
       "  function embed_document(root) {\n",
       "    var docs_json = {\"68b5aea0-c5b6-447e-8573-09a3ae77fca3\":{\"defs\":[{\"extends\":null,\"module\":null,\"name\":\"ReactiveHTML1\",\"overrides\":[],\"properties\":[]},{\"extends\":null,\"module\":null,\"name\":\"FlexBox1\",\"overrides\":[],\"properties\":[{\"default\":\"flex-start\",\"kind\":null,\"name\":\"align_content\"},{\"default\":\"flex-start\",\"kind\":null,\"name\":\"align_items\"},{\"default\":\"row\",\"kind\":null,\"name\":\"flex_direction\"},{\"default\":\"wrap\",\"kind\":null,\"name\":\"flex_wrap\"},{\"default\":\"flex-start\",\"kind\":null,\"name\":\"justify_content\"}]},{\"extends\":null,\"module\":null,\"name\":\"GridStack1\",\"overrides\":[],\"properties\":[{\"default\":\"warn\",\"kind\":null,\"name\":\"mode\"},{\"default\":null,\"kind\":null,\"name\":\"ncols\"},{\"default\":null,\"kind\":null,\"name\":\"nrows\"},{\"default\":true,\"kind\":null,\"name\":\"allow_resize\"},{\"default\":true,\"kind\":null,\"name\":\"allow_drag\"},{\"default\":[],\"kind\":null,\"name\":\"state\"}]},{\"extends\":null,\"module\":null,\"name\":\"click1\",\"overrides\":[],\"properties\":[{\"default\":\"\",\"kind\":null,\"name\":\"terminal_output\"},{\"default\":\"\",\"kind\":null,\"name\":\"debug_name\"},{\"default\":0,\"kind\":null,\"name\":\"clears\"}]},{\"extends\":null,\"module\":null,\"name\":\"NotificationAreaBase1\",\"overrides\":[],\"properties\":[{\"default\":\"bottom-right\",\"kind\":null,\"name\":\"position\"},{\"default\":0,\"kind\":null,\"name\":\"_clear\"}]},{\"extends\":null,\"module\":null,\"name\":\"NotificationArea1\",\"overrides\":[],\"properties\":[{\"default\":[],\"kind\":null,\"name\":\"notifications\"},{\"default\":\"bottom-right\",\"kind\":null,\"name\":\"position\"},{\"default\":0,\"kind\":null,\"name\":\"_clear\"},{\"default\":[{\"background\":\"#ffc107\",\"icon\":{\"className\":\"fas fa-exclamation-triangle\",\"color\":\"white\",\"tagName\":\"i\"},\"type\":\"warning\"},{\"background\":\"#007bff\",\"icon\":{\"className\":\"fas fa-info-circle\",\"color\":\"white\",\"tagName\":\"i\"},\"type\":\"info\"}],\"kind\":null,\"name\":\"types\"}]},{\"extends\":null,\"module\":null,\"name\":\"Notification\",\"overrides\":[],\"properties\":[{\"default\":null,\"kind\":null,\"name\":\"background\"},{\"default\":3000,\"kind\":null,\"name\":\"duration\"},{\"default\":null,\"kind\":null,\"name\":\"icon\"},{\"default\":\"\",\"kind\":null,\"name\":\"message\"},{\"default\":null,\"kind\":null,\"name\":\"notification_type\"},{\"default\":false,\"kind\":null,\"name\":\"_destroyed\"}]},{\"extends\":null,\"module\":null,\"name\":\"TemplateActions1\",\"overrides\":[],\"properties\":[{\"default\":0,\"kind\":null,\"name\":\"open_modal\"},{\"default\":0,\"kind\":null,\"name\":\"close_modal\"}]},{\"extends\":null,\"module\":null,\"name\":\"MaterialTemplateActions1\",\"overrides\":[],\"properties\":[{\"default\":0,\"kind\":null,\"name\":\"open_modal\"},{\"default\":0,\"kind\":null,\"name\":\"close_modal\"}]}],\"roots\":{\"references\":[{\"attributes\":{\"editor\":{\"id\":\"1051\"},\"field\":\"index\",\"formatter\":{\"id\":\"1049\"},\"title\":\"index\",\"width\":0},\"id\":\"1052\",\"type\":\"TableColumn\"},{\"attributes\":{\"text_align\":\"right\"},\"id\":\"1060\",\"type\":\"NumberFormatter\"},{\"attributes\":{},\"id\":\"1055\",\"type\":\"StringFormatter\"},{\"attributes\":{\"client_comm_id\":\"b5a910e2df9745019d86090fc24b5be7\",\"comm_id\":\"98a0e2ab27d14e649995d07c9369a9ed\",\"plot_id\":\"1070\"},\"id\":\"1078\",\"type\":\"panel.models.comm_manager.CommManager\"},{\"attributes\":{\"editor\":{\"id\":\"1061\"},\"field\":\"1\",\"formatter\":{\"id\":\"1060\"},\"title\":\"tot_size\",\"width\":0},\"id\":\"1062\",\"type\":\"TableColumn\"},{\"attributes\":{},\"id\":\"1051\",\"type\":\"CellEditor\"},{\"attributes\":{\"columns\":[{\"id\":\"1052\"},{\"id\":\"1057\"},{\"id\":\"1062\"},{\"id\":\"1067\"}],\"configuration\":{\"columns\":[{\"field\":\"index\",\"sorter\":\"number\"},{\"field\":\"0\"},{\"field\":\"1\",\"sorter\":\"number\"},{\"field\":\"2\",\"sorter\":\"number\"}],\"dataTree\":false,\"selectable\":true},\"hidden_columns\":[\"index\"],\"indexes\":[\"index\"],\"layout\":\"fit_data_table\",\"margin\":[5,10,5,10],\"max_page\":6,\"name\":\"\",\"page\":1,\"page_size\":10,\"pagination\":\"local\",\"select_mode\":true,\"selectable_rows\":null,\"source\":{\"id\":\"1047\"},\"styles\":{\"data\":{},\"id\":\"7c4dac581def492281e96f0b2e06e9ca\"},\"subscribed_events\":[\"cell-click\",\"table-edit\"],\"theme_url\":\"https://cdn.jsdelivr.net/npm/@holoviz/panel@0.14.1/dist/bundled/datatabulator/tabulator-tables@5.3.2/dist/css/\"},\"id\":\"1070\",\"type\":\"panel.models.tabulator.DataTabulator\"},{\"attributes\":{\"editor\":{\"id\":\"1056\"},\"field\":\"0\",\"formatter\":{\"id\":\"1055\"},\"title\":\"catalog\",\"width\":0},\"id\":\"1057\",\"type\":\"TableColumn\"},{\"attributes\":{},\"id\":\"1066\",\"type\":\"IntEditor\"},{\"attributes\":{\"indices\":[]},\"id\":\"1048\",\"type\":\"Selection\"},{\"attributes\":{\"text_align\":\"right\"},\"id\":\"1065\",\"type\":\"NumberFormatter\"},{\"attributes\":{\"editor\":{\"id\":\"1066\"},\"field\":\"2\",\"formatter\":{\"id\":\"1065\"},\"title\":\"num_files\",\"width\":0},\"id\":\"1067\",\"type\":\"TableColumn\"},{\"attributes\":{},\"id\":\"1072\",\"type\":\"UnionRenderers\"},{\"attributes\":{},\"id\":\"1061\",\"type\":\"IntEditor\"},{\"attributes\":{},\"id\":\"1056\",\"type\":\"StringEditor\"},{\"attributes\":{\"text_align\":\"left\"},\"id\":\"1049\",\"type\":\"NumberFormatter\"},{\"attributes\":{\"data\":{\"0\":[\"aws-open-data\",\"ranch\",\"cyverse\",\"arecibo\",\"zenodo.org\",\"http://dataverse.harvard.edu\",\"http://dataverse.asu.edu\",\"mdf\",\"digitalrocksportal\",\"http://dataverse.no\",\"http://borealisdata.ca\",\"mc\",\"http://dataverse.nl\",\"http://heidata.uni-heidelberg.de\",\"http://dataverse.uclouvain.be\",\"http://abacus.library.ubc.ca\",\"http://data.goettingen-research-online.de\",\"http://researchdata.ntu.edu.sg\",\"http://edatos.consorciomadrono.es\",\"http://archive.data.jhu.edu\",\"http://dataverse.openforestdata.pl\",\"http://dataverse.fiu.edu\",\"http://dataverse.vtti.vt.edu\",\"http://dataverse.lib.virginia.edu\",\"http://data.qdr.syr.edu\",\"http://data.mel.cgiar.org\",\"http://researchdata.cuhk.edu.hk\",\"http://dataverse.iit.it\",\"http://opendata.pku.edu.cn\",\"http://data.fz-juelich.de\",\"http://dadosdepesquisa.fiocruz.br\",\"http://dataverse.nioz.nl\",\"http://dataverse.unimi.it\",\"http://dataverse.lib.umanitoba.ca\",\"http://datasets.iisg.amsterdam\",\"http://datos.uchile.cl\",\"http://dataverse.lib.unb.ca\",\"http://dataverse.ird.fr\",\"http://research-data.ifsttar.fr\",\"http://researchdata.nie.edu.sg\",\"http://data.aussda.at\",\"http://repositoriopesquisas.ibict.br\",\"http://research-data.urosario.edu.co\",\"http://lida.dataverse.lt\",\"http://datos.pucp.edu.pe\",\"http://dataverse.theacss.org\",\"http://dataverse.ifdc.org\",\"http://dataverse.pushdom.ru\",\"http://dataverse.dartmouth.edu\",\"http://dadosabertos.rnp.br\",\"http://data.crossda.hr\"],\"1\":[45896377854088004,36750124831337770,1127291010605520,491912368698644,373254832657873,67068721314700,18386183101620,16238831619785,8953576105178,6742545513339,6290108488644,5750975594582,5500210742435,4910272919031,2702157935207,2523669452315,1979938660977,1847275613012,1834646091675,1815170325288,1802094273226,1015633490390,342680111353,185479561658,61860894572,54394703993,51038467582,44187057965,42573070255,37438130632,35515177964,26430898428,20410998252,18444574285,15967160841,15807150732,12359129706,11878141969,10963912136,8689163984,8278057769,5212653691,3377176035,2617089824,2466726063,1445462900,1310021157,1240025239,238576534,192285302,149388007],\"2\":[1558250549,3745760,18330947,2045049,3461517,1733660,6911,2279959,139393,91801,191260,131091,160997,3453,9106,42572,16494,32898,3763,3374,25175,830,1175,33688,13848,2828,131,688,3214,2184,194221,534,2752,295,4473,267,187,4628,102,1924,3142,477,337,946,594,524,388,289,591,138,46],\"index\":[0,1,2,3,4,5,6,7,8,9,10,11,12,13,14,15,16,17,18,19,20,21,22,23,24,25,26,27,28,29,30,31,32,33,34,35,36,37,38,39,40,41,42,43,44,45,46,47,48,49,50]},\"selected\":{\"id\":\"1048\"},\"selection_policy\":{\"id\":\"1072\"}},\"id\":\"1047\",\"type\":\"ColumnDataSource\"}],\"root_ids\":[\"1070\",\"1078\"]},\"title\":\"Bokeh Application\",\"version\":\"2.4.3\"}};\n",
       "    var render_items = [{\"docid\":\"68b5aea0-c5b6-447e-8573-09a3ae77fca3\",\"root_ids\":[\"1070\"],\"roots\":{\"1070\":\"9b349c50-5a39-4aa4-9ebf-eb0cb7154556\"}}];\n",
       "    root.Bokeh.embed.embed_items_notebook(docs_json, render_items);\n",
       "    for (const render_item of render_items) {\n",
       "      for (const root_id of render_item.root_ids) {\n",
       "\tconst id_el = document.getElementById(root_id)\n",
       "\tif (id_el.children.length && (id_el.children[0].className === 'bk-root')) {\n",
       "\t  const root_el = id_el.children[0]\n",
       "\t  root_el.id = root_el.id + '-rendered'\n",
       "\t}\n",
       "      }\n",
       "    }\n",
       "  }\n",
       "  if (root.Bokeh !== undefined && root.Bokeh.Panel !== undefined && ( root['Tabulator'] !== undefined) && ( root['Tabulator'] !== undefined)) {\n",
       "    embed_document(root);\n",
       "  } else {\n",
       "    var attempts = 0;\n",
       "    var timer = setInterval(function(root) {\n",
       "      if (root.Bokeh !== undefined && root.Bokeh.Panel !== undefined && (root['Tabulator'] !== undefined) && (root['Tabulator'] !== undefined)) {\n",
       "        clearInterval(timer);\n",
       "        embed_document(root);\n",
       "      } else if (document.readyState == \"complete\") {\n",
       "        attempts++;\n",
       "        if (attempts > 200) {\n",
       "          clearInterval(timer);\n",
       "          console.log(\"Bokeh: ERROR: Unable to run BokehJS code because BokehJS library is missing\");\n",
       "        }\n",
       "      }\n",
       "    }, 25, root)\n",
       "  }\n",
       "})(window);</script>"
      ],
      "text/plain": [
       "Tabulator(hidden_columns=['index'], page_size=10, pagination='local', titles={0: 'catalog', ...}, value=              ...)"
      ]
     },
     "execution_count": 6,
     "metadata": {
      "application/vnd.holoviews_exec.v0+json": {
       "id": "1070"
      }
     },
     "output_type": "execute_result"
    }
   ],
   "source": [
    "def ShowRecords(records, titles={}):\n",
    "\tdf=pd.DataFrame(records)\n",
    "\tif titles: titles={ I : titles[I] for I in range(len(titles)) }\n",
    "\tprint(titles)\n",
    "\tdf_widget = pn.widgets.Tabulator(df, hidden_columns=[\"index\"], titles=titles,page_size =10,pagination =\"local\")\n",
    "\n",
    "\treturn df_widget\n",
    "\n",
    "ShowRecords(catalogs,[\"catalog\",\"tot_size\",\"num_files\"])"
   ]
  },
  {
   "cell_type": "code",
   "execution_count": 7,
   "metadata": {},
   "outputs": [
    {
     "name": "stdout",
     "output_type": "stream",
     "text": [
      "1,590,981,170 TOT_BYTES=84,795,345,554,398,043\n",
      "CPU times: user 1.5 ms, sys: 1.25 ms, total: 2.75 ms\n",
      "Wall time: 106 ms\n"
     ]
    }
   ],
   "source": [
    "%%time\n",
    "\n",
    "# total records and total size\n",
    "NUM_FILES,TOT_BYTES=client.execute(f\"SELECT SUM(num_files),SUM(tot_size) FROM nsdf.aggregated_catalog;\")[0]\n",
    "print(f\"{NUM_FILES:,} TOT_BYTES={TOT_BYTES:,}\")"
   ]
  },
  {
   "cell_type": "code",
   "execution_count": 10,
   "metadata": {},
   "outputs": [
    {
     "name": "stdout",
     "output_type": "stream",
     "text": [
      "{}\n",
      "CPU times: user 7.88 ms, sys: 0 ns, total: 7.88 ms\n",
      "Wall time: 589 ms\n"
     ]
    },
    {
     "data": {},
     "metadata": {},
     "output_type": "display_data"
    },
    {
     "data": {
      "application/vnd.holoviews_exec.v0+json": "",
      "text/html": [
       "<div id='1164'>\n",
       "  <div class=\"bk-root\" id=\"2a012836-6cc2-4d73-bb6e-3b5470c63f57\" data-root-id=\"1164\"></div>\n",
       "</div>\n",
       "<script type=\"application/javascript\">(function(root) {\n",
       "  function embed_document(root) {\n",
       "    var docs_json = {\"da794dbe-56ca-4e51-93c6-b12cda8691de\":{\"defs\":[{\"extends\":null,\"module\":null,\"name\":\"ReactiveHTML1\",\"overrides\":[],\"properties\":[]},{\"extends\":null,\"module\":null,\"name\":\"FlexBox1\",\"overrides\":[],\"properties\":[{\"default\":\"flex-start\",\"kind\":null,\"name\":\"align_content\"},{\"default\":\"flex-start\",\"kind\":null,\"name\":\"align_items\"},{\"default\":\"row\",\"kind\":null,\"name\":\"flex_direction\"},{\"default\":\"wrap\",\"kind\":null,\"name\":\"flex_wrap\"},{\"default\":\"flex-start\",\"kind\":null,\"name\":\"justify_content\"}]},{\"extends\":null,\"module\":null,\"name\":\"GridStack1\",\"overrides\":[],\"properties\":[{\"default\":\"warn\",\"kind\":null,\"name\":\"mode\"},{\"default\":null,\"kind\":null,\"name\":\"ncols\"},{\"default\":null,\"kind\":null,\"name\":\"nrows\"},{\"default\":true,\"kind\":null,\"name\":\"allow_resize\"},{\"default\":true,\"kind\":null,\"name\":\"allow_drag\"},{\"default\":[],\"kind\":null,\"name\":\"state\"}]},{\"extends\":null,\"module\":null,\"name\":\"click1\",\"overrides\":[],\"properties\":[{\"default\":\"\",\"kind\":null,\"name\":\"terminal_output\"},{\"default\":\"\",\"kind\":null,\"name\":\"debug_name\"},{\"default\":0,\"kind\":null,\"name\":\"clears\"}]},{\"extends\":null,\"module\":null,\"name\":\"NotificationAreaBase1\",\"overrides\":[],\"properties\":[{\"default\":\"bottom-right\",\"kind\":null,\"name\":\"position\"},{\"default\":0,\"kind\":null,\"name\":\"_clear\"}]},{\"extends\":null,\"module\":null,\"name\":\"NotificationArea1\",\"overrides\":[],\"properties\":[{\"default\":[],\"kind\":null,\"name\":\"notifications\"},{\"default\":\"bottom-right\",\"kind\":null,\"name\":\"position\"},{\"default\":0,\"kind\":null,\"name\":\"_clear\"},{\"default\":[{\"background\":\"#ffc107\",\"icon\":{\"className\":\"fas fa-exclamation-triangle\",\"color\":\"white\",\"tagName\":\"i\"},\"type\":\"warning\"},{\"background\":\"#007bff\",\"icon\":{\"className\":\"fas fa-info-circle\",\"color\":\"white\",\"tagName\":\"i\"},\"type\":\"info\"}],\"kind\":null,\"name\":\"types\"}]},{\"extends\":null,\"module\":null,\"name\":\"Notification\",\"overrides\":[],\"properties\":[{\"default\":null,\"kind\":null,\"name\":\"background\"},{\"default\":3000,\"kind\":null,\"name\":\"duration\"},{\"default\":null,\"kind\":null,\"name\":\"icon\"},{\"default\":\"\",\"kind\":null,\"name\":\"message\"},{\"default\":null,\"kind\":null,\"name\":\"notification_type\"},{\"default\":false,\"kind\":null,\"name\":\"_destroyed\"}]},{\"extends\":null,\"module\":null,\"name\":\"TemplateActions1\",\"overrides\":[],\"properties\":[{\"default\":0,\"kind\":null,\"name\":\"open_modal\"},{\"default\":0,\"kind\":null,\"name\":\"close_modal\"}]},{\"extends\":null,\"module\":null,\"name\":\"MaterialTemplateActions1\",\"overrides\":[],\"properties\":[{\"default\":0,\"kind\":null,\"name\":\"open_modal\"},{\"default\":0,\"kind\":null,\"name\":\"close_modal\"}]}],\"roots\":{\"references\":[{\"attributes\":{\"text_align\":\"left\"},\"id\":\"1138\",\"type\":\"NumberFormatter\"},{\"attributes\":{\"editor\":{\"id\":\"1155\"},\"field\":\"2\",\"formatter\":{\"id\":\"1154\"},\"title\":\"2\",\"width\":0},\"id\":\"1156\",\"type\":\"TableColumn\"},{\"attributes\":{},\"id\":\"1150\",\"type\":\"StringEditor\"},{\"attributes\":{\"data\":{\"0\":[\"aws-open-data\",\"ranch\",\"ranch\",\"ranch\",\"aws-open-data\",\"aws-open-data\",\"aws-open-data\",\"ranch\",\"ranch\",\"aws-open-data\",\"aws-open-data\",\"aws-open-data\",\"aws-open-data\",\"aws-open-data\",\"aws-open-data\",\"aws-open-data\",\"ranch\",\"aws-open-data\",\"aws-open-data\",\"aws-open-data\",\"aws-open-data\",\"ranch\",\"ranch\",\"aws-open-data\",\"aws-open-data\",\"aws-open-data\",\"ranch\",\"ranch\",\"ranch\",\"ranch\",\"aws-open-data\",\"aws-open-data\",\"ranch\",\"ranch\",\"ranch\",\"aws-open-data\",\"aws-open-data\",\"aws-open-data\",\"ranch\",\"ranch\",\"ranch\",\"ranch\",\"aws-open-data\",\"aws-open-data\",\"aws-open-data\",\"ranch\",\"aws-open-data\",\"aws-open-data\",\"aws-open-data\",\"ranch\",\"ranch\",\"aws-open-data\",\"ranch\",\"ranch\",\"ranch\",\"ranch\",\"ranch\",\"aws-open-data\",\"aws-open-data\",\"ranch\",\"ranch\",\"aws-open-data\",\"ranch\",\"aws-open-data\",\"ranch\",\"aws-open-data\",\"aws-open-data\",\"aws-open-data\",\"aws-open-data\",\"arecibo\",\"aws-open-data\",\"ranch\",\"aws-open-data\",\"aws-open-data\",\"ranch\",\"ranch\",\"aws-open-data\",\"aws-open-data\",\"aws-open-data\",\"ranch\",\"ranch\",\"ranch\",\"ranch\",\"aws-open-data\",\"ranch\",\"ranch\",\"aws-open-data\",\"aws-open-data\",\"ranch\",\"ranch\",\"aws-open-data\",\"ranch\",\"ranch\",\"ranch\",\"aws-open-data\",\"aws-open-data\",\"aws-open-data\",\"ranch\",\"ranch\",\"aws-open-data\"],\"1\":[\"sra-pub-run-odp\",\"AST20015\",\"PHY20003\",\"CTS20009\",\"deafrica-sentinel-2\",\"noaa-hrrr-bdp-pds\",\"noaa-gefs-pds\",\"rctftacc\",\"ATM20005\",\"human-pangenomics\",\"sra-pub-sars-cov2\",\"noaa-gfs-bdp-pds\",\"cmip6-pds\",\"encode-public\",\"wrf-cmip6-noversioning\",\"nrel-pds-wtk\",\"vadim_ncsa\",\"zinc3d\",\"1000genomes\",\"esgf-world\",\"sra-pub-src-1\",\"TG-PHY190045\",\"AST20007\",\"smithsonian-open-access\",\"meeo-s3-cog\",\"stpubdata\",\"AST20006\",\"TG-PHY060011N\",\"TG-MCA93S002\",\"TG-CTS070067N\",\"sentinel1-slc-seasia-pds\",\"genomeark\",\"TG-ATM140042\",\"TG-AST120060\",\"AST21005\",\"noaa-nbm-grib2-pds\",\"noaa-cfs-pds\",\"sra-pub-src-2\",\"FTA-Hopkins\",\"ATM20006\",\"TG-ATM170028\",\"tg-mca94p018\",\"1000genomes-dragen\",\"1000genomes-dragen-3.7.6\",\"nrel-pds-nsrdb\",\"TG-MCA95C006\",\"ncar-cesm2-lens\",\"noaa-rrfs-pds\",\"globalnightlight\",\"TG-ATM160026\",\"TG-AST090005\",\"deafrica-services\",\"TG-ATM180015\",\"DPP20001\",\"TG-AST170024\",\"AST20023\",\"TG-AST120062\",\"deafrica-sentinel-1\",\"fmi-opendata-rcrhirlam-pressure-grib\",\"TG-PHY160025\",\"TG-ATM140021\",\"noaa-rap-pds\",\"TERRA-REF\",\"nrel-pds-building-stock\",\"TG-AST090040\",\"mwapublic\",\"allen-mouse-brain-atlas\",\"noaa-jpss\",\"nara-1950-census\",\"S3453\",\"4dn-open-data-public\",\"TG-IBN180001\",\"noaa-nam-pds\",\"allen-brain-observatory\",\"TG-CTS110029\",\"Understanding-High-I\",\"ncbi-blast-databases\",\"noaa-ufs-prototypes-pds\",\"noaa-wcsd-pds\",\"TG-CTS090004\",\"TG-MCA94P017\",\"TG-OCE140024\",\"TG-AST100038\",\"terrafusiondatasampler\",\"AST20022\",\"TG-CTS190040\",\"noaa-nwm-retrospective-2-1-pds\",\"nrel-pds-porotomo\",\"TG-AST140064\",\"CHE20010\",\"dnastack-covid-19-sra-data\",\"TG-PHY170024\",\"TG-CTS130035\",\"TG-PHY190020\",\"janelia-flylight-imagery\",\"bdc-sentinel-2\",\"pan-ukb-us-east-1\",\"Immunology-Next-Gen\",\"TG-MCA08X016\",\"czb-tabula-muris-senis\"],\"2\":[17381287,64188,231336,48623,45886993,33582006,89362647,32218,76000,183868,10141046,41984371,39388107,1221131,65639163,536347,9364,4992253,477714,1202363,269463,80000,9636,7255014,31560814,63105268,22832,21649,209118,49196,1242940,4751022,15815,13534,1402,20047133,71803808,133198,78577,4344,16053,61380,641687,805833,319,5666,3159917,2780079,4104847,5538,4936,26622785,1504,63301,726,1026,52727,9573545,57987,13623,16040,27392531,1119,61021376,19801,685211,4572130,5651759,13539133,94197,50015,34351,6066718,8717,40481,300,422259,768998,2655403,460,99636,554,27664,5058,1992,465,1738252,4909186,20685,969,9820706,2128,3324,73958,4281904,549892,1489276,539,52356,3109468],\"3\":[13616090404273786,9044348820142835,4315046973201938,2528266508417821,2389902124666594,2144318216738649,1890930002645210,1497793189666427,1445297808898192,1305993292339773,1277290521037110,1209050479955871,1148834292829024,1116055817219781,1092653770074732,1047123617568157,1020396706530486,908857843257200,766146676540309,745947232550862,744473640184946,689666322703851,684995398716994,680520790880528,658805267229503,633224320331558,582730435229914,567780335170789,516036775065258,509146522766381,503065461483646,474263085912655,471219417156984,450225961691355,448430307180800,444890172785565,426255112757384,423464139676603,421288102149554,418561371904813,407107330707422,402520576014670,389586500582586,376743106874602,373874421506947,357515444724402,340055569572865,338452154890302,315295841644983,303121458224340,297728909676808,297726552292496,271426723121469,269977012051098,258244220987416,252428363600817,245854459809295,236905058161691,236562027471339,235465004761429,233285814285153,231977807400629,221784967779744,215839706684697,215722195831425,211137243497428,208919616135918,208125663159243,207480342112935,196962502721760,189221162587726,176533693087762,175478875768513,174586402617606,169740761352331,169585347204771,168968047301519,167353160210996,166290107748619,165002329687459,157414844308471,152793815422058,152113635825892,149781420700424,148041937647617,145506889081134,145336974960549,145260956286326,144263366155069,143377004605374,142887316260596,137851811205033,133699874786931,132579960005949,132056317404407,124112904931135,120802361050704,119742467296505,119664254771662,116119240784895],\"index\":[0,1,2,3,4,5,6,7,8,9,10,11,12,13,14,15,16,17,18,19,20,21,22,23,24,25,26,27,28,29,30,31,32,33,34,35,36,37,38,39,40,41,42,43,44,45,46,47,48,49,50,51,52,53,54,55,56,57,58,59,60,61,62,63,64,65,66,67,68,69,70,71,72,73,74,75,76,77,78,79,80,81,82,83,84,85,86,87,88,89,90,91,92,93,94,95,96,97,98,99]},\"selected\":{\"id\":\"1137\"},\"selection_policy\":{\"id\":\"1166\"}},\"id\":\"1136\",\"type\":\"ColumnDataSource\"},{\"attributes\":{\"editor\":{\"id\":\"1150\"},\"field\":\"1\",\"formatter\":{\"id\":\"1149\"},\"title\":\"1\",\"width\":0},\"id\":\"1151\",\"type\":\"TableColumn\"},{\"attributes\":{},\"id\":\"1144\",\"type\":\"StringFormatter\"},{\"attributes\":{},\"id\":\"1145\",\"type\":\"StringEditor\"},{\"attributes\":{\"text_align\":\"right\"},\"id\":\"1154\",\"type\":\"NumberFormatter\"},{\"attributes\":{\"editor\":{\"id\":\"1145\"},\"field\":\"0\",\"formatter\":{\"id\":\"1144\"},\"title\":\"0\",\"width\":0},\"id\":\"1146\",\"type\":\"TableColumn\"},{\"attributes\":{},\"id\":\"1155\",\"type\":\"IntEditor\"},{\"attributes\":{},\"id\":\"1140\",\"type\":\"CellEditor\"},{\"attributes\":{},\"id\":\"1160\",\"type\":\"IntEditor\"},{\"attributes\":{\"client_comm_id\":\"78ccbfb71c174923941af0f24764c0e7\",\"comm_id\":\"08807ac331614b7c839e01d4ee6e547c\",\"plot_id\":\"1164\"},\"id\":\"1172\",\"type\":\"panel.models.comm_manager.CommManager\"},{\"attributes\":{\"text_align\":\"right\"},\"id\":\"1159\",\"type\":\"NumberFormatter\"},{\"attributes\":{\"editor\":{\"id\":\"1160\"},\"field\":\"3\",\"formatter\":{\"id\":\"1159\"},\"title\":\"3\",\"width\":0},\"id\":\"1161\",\"type\":\"TableColumn\"},{\"attributes\":{\"columns\":[{\"id\":\"1141\"},{\"id\":\"1146\"},{\"id\":\"1151\"},{\"id\":\"1156\"},{\"id\":\"1161\"}],\"configuration\":{\"columns\":[{\"field\":\"index\",\"sorter\":\"number\"},{\"field\":\"0\"},{\"field\":\"1\"},{\"field\":\"2\",\"sorter\":\"number\"},{\"field\":\"3\",\"sorter\":\"number\"}],\"dataTree\":false,\"selectable\":true},\"hidden_columns\":[\"index\"],\"indexes\":[\"index\"],\"layout\":\"fit_data_table\",\"margin\":[5,10,5,10],\"max_page\":10,\"name\":\"\",\"page\":1,\"page_size\":10,\"pagination\":\"local\",\"select_mode\":true,\"selectable_rows\":null,\"source\":{\"id\":\"1136\"},\"styles\":{\"data\":{},\"id\":\"9cec3f0d8d834fa99d290b66182e9c31\"},\"subscribed_events\":[\"cell-click\",\"table-edit\"],\"theme_url\":\"https://cdn.jsdelivr.net/npm/@holoviz/panel@0.14.1/dist/bundled/datatabulator/tabulator-tables@5.3.2/dist/css/\"},\"id\":\"1164\",\"type\":\"panel.models.tabulator.DataTabulator\"},{\"attributes\":{\"indices\":[]},\"id\":\"1137\",\"type\":\"Selection\"},{\"attributes\":{},\"id\":\"1149\",\"type\":\"StringFormatter\"},{\"attributes\":{},\"id\":\"1166\",\"type\":\"UnionRenderers\"},{\"attributes\":{\"editor\":{\"id\":\"1140\"},\"field\":\"index\",\"formatter\":{\"id\":\"1138\"},\"title\":\"index\",\"width\":0},\"id\":\"1141\",\"type\":\"TableColumn\"}],\"root_ids\":[\"1164\",\"1172\"]},\"title\":\"Bokeh Application\",\"version\":\"2.4.3\"}};\n",
       "    var render_items = [{\"docid\":\"da794dbe-56ca-4e51-93c6-b12cda8691de\",\"root_ids\":[\"1164\"],\"roots\":{\"1164\":\"2a012836-6cc2-4d73-bb6e-3b5470c63f57\"}}];\n",
       "    root.Bokeh.embed.embed_items_notebook(docs_json, render_items);\n",
       "    for (const render_item of render_items) {\n",
       "      for (const root_id of render_item.root_ids) {\n",
       "\tconst id_el = document.getElementById(root_id)\n",
       "\tif (id_el.children.length && (id_el.children[0].className === 'bk-root')) {\n",
       "\t  const root_el = id_el.children[0]\n",
       "\t  root_el.id = root_el.id + '-rendered'\n",
       "\t}\n",
       "      }\n",
       "    }\n",
       "  }\n",
       "  if (root.Bokeh !== undefined && root.Bokeh.Panel !== undefined && ( root['Tabulator'] !== undefined) && ( root['Tabulator'] !== undefined)) {\n",
       "    embed_document(root);\n",
       "  } else {\n",
       "    var attempts = 0;\n",
       "    var timer = setInterval(function(root) {\n",
       "      if (root.Bokeh !== undefined && root.Bokeh.Panel !== undefined && (root['Tabulator'] !== undefined) && (root['Tabulator'] !== undefined)) {\n",
       "        clearInterval(timer);\n",
       "        embed_document(root);\n",
       "      } else if (document.readyState == \"complete\") {\n",
       "        attempts++;\n",
       "        if (attempts > 200) {\n",
       "          clearInterval(timer);\n",
       "          console.log(\"Bokeh: ERROR: Unable to run BokehJS code because BokehJS library is missing\");\n",
       "        }\n",
       "      }\n",
       "    }, 25, root)\n",
       "  }\n",
       "})(window);</script>"
      ],
      "text/plain": [
       "Tabulator(hidden_columns=['index'], page_size=10, pagination='local', value=              ...)"
      ]
     },
     "execution_count": 10,
     "metadata": {
      "application/vnd.holoviews_exec.v0+json": {
       "id": "1164"
      }
     },
     "output_type": "execute_result"
    }
   ],
   "source": [
    "%%time\n",
    "\n",
    "# # total size per catalog/bucket\n",
    "ShowRecords(client.execute(\"\"\"\n",
    "\tSELECT catalog,bucket, SUM(num_files) as num_files,SUM(tot_size) as tot_size\n",
    "\tFROM nsdf.aggregated_catalog\n",
    "\tGROUP BY catalog, bucket\n",
    "\tORDER BY tot_size DESC,num_files DESC\n",
    "\tLIMIT 100\n",
    "\t\"\"\"))"
   ]
  },
  {
   "cell_type": "code",
   "execution_count": 16,
   "metadata": {},
   "outputs": [
    {
     "name": "stdout",
     "output_type": "stream",
     "text": [
      "{}\n",
      "CPU times: user 4.22 ms, sys: 0 ns, total: 4.22 ms\n",
      "Wall time: 101 ms\n"
     ]
    },
    {
     "data": {},
     "metadata": {},
     "output_type": "display_data"
    },
    {
     "data": {
      "application/vnd.holoviews_exec.v0+json": "",
      "text/html": [
       "<div id='1243'>\n",
       "  <div class=\"bk-root\" id=\"388a9e30-9220-4d83-93cc-cee748027aaf\" data-root-id=\"1243\"></div>\n",
       "</div>\n",
       "<script type=\"application/javascript\">(function(root) {\n",
       "  function embed_document(root) {\n",
       "    var docs_json = {\"92fc5fe9-5216-4646-aa93-047713bd1afe\":{\"defs\":[{\"extends\":null,\"module\":null,\"name\":\"ReactiveHTML1\",\"overrides\":[],\"properties\":[]},{\"extends\":null,\"module\":null,\"name\":\"FlexBox1\",\"overrides\":[],\"properties\":[{\"default\":\"flex-start\",\"kind\":null,\"name\":\"align_content\"},{\"default\":\"flex-start\",\"kind\":null,\"name\":\"align_items\"},{\"default\":\"row\",\"kind\":null,\"name\":\"flex_direction\"},{\"default\":\"wrap\",\"kind\":null,\"name\":\"flex_wrap\"},{\"default\":\"flex-start\",\"kind\":null,\"name\":\"justify_content\"}]},{\"extends\":null,\"module\":null,\"name\":\"GridStack1\",\"overrides\":[],\"properties\":[{\"default\":\"warn\",\"kind\":null,\"name\":\"mode\"},{\"default\":null,\"kind\":null,\"name\":\"ncols\"},{\"default\":null,\"kind\":null,\"name\":\"nrows\"},{\"default\":true,\"kind\":null,\"name\":\"allow_resize\"},{\"default\":true,\"kind\":null,\"name\":\"allow_drag\"},{\"default\":[],\"kind\":null,\"name\":\"state\"}]},{\"extends\":null,\"module\":null,\"name\":\"click1\",\"overrides\":[],\"properties\":[{\"default\":\"\",\"kind\":null,\"name\":\"terminal_output\"},{\"default\":\"\",\"kind\":null,\"name\":\"debug_name\"},{\"default\":0,\"kind\":null,\"name\":\"clears\"}]},{\"extends\":null,\"module\":null,\"name\":\"NotificationAreaBase1\",\"overrides\":[],\"properties\":[{\"default\":\"bottom-right\",\"kind\":null,\"name\":\"position\"},{\"default\":0,\"kind\":null,\"name\":\"_clear\"}]},{\"extends\":null,\"module\":null,\"name\":\"NotificationArea1\",\"overrides\":[],\"properties\":[{\"default\":[],\"kind\":null,\"name\":\"notifications\"},{\"default\":\"bottom-right\",\"kind\":null,\"name\":\"position\"},{\"default\":0,\"kind\":null,\"name\":\"_clear\"},{\"default\":[{\"background\":\"#ffc107\",\"icon\":{\"className\":\"fas fa-exclamation-triangle\",\"color\":\"white\",\"tagName\":\"i\"},\"type\":\"warning\"},{\"background\":\"#007bff\",\"icon\":{\"className\":\"fas fa-info-circle\",\"color\":\"white\",\"tagName\":\"i\"},\"type\":\"info\"}],\"kind\":null,\"name\":\"types\"}]},{\"extends\":null,\"module\":null,\"name\":\"Notification\",\"overrides\":[],\"properties\":[{\"default\":null,\"kind\":null,\"name\":\"background\"},{\"default\":3000,\"kind\":null,\"name\":\"duration\"},{\"default\":null,\"kind\":null,\"name\":\"icon\"},{\"default\":\"\",\"kind\":null,\"name\":\"message\"},{\"default\":null,\"kind\":null,\"name\":\"notification_type\"},{\"default\":false,\"kind\":null,\"name\":\"_destroyed\"}]},{\"extends\":null,\"module\":null,\"name\":\"TemplateActions1\",\"overrides\":[],\"properties\":[{\"default\":0,\"kind\":null,\"name\":\"open_modal\"},{\"default\":0,\"kind\":null,\"name\":\"close_modal\"}]},{\"extends\":null,\"module\":null,\"name\":\"MaterialTemplateActions1\",\"overrides\":[],\"properties\":[{\"default\":0,\"kind\":null,\"name\":\"open_modal\"},{\"default\":0,\"kind\":null,\"name\":\"close_modal\"}]}],\"roots\":{\"references\":[{\"attributes\":{},\"id\":\"1239\",\"type\":\"IntEditor\"},{\"attributes\":{\"client_comm_id\":\"b6b84c9b2d8940ac9dc6ba26d87d82f6\",\"comm_id\":\"94d8db396b484456b650c15f34de45c6\",\"plot_id\":\"1243\"},\"id\":\"1251\",\"type\":\"panel.models.comm_manager.CommManager\"},{\"attributes\":{\"text_align\":\"right\"},\"id\":\"1233\",\"type\":\"NumberFormatter\"},{\"attributes\":{\"indices\":[]},\"id\":\"1221\",\"type\":\"Selection\"},{\"attributes\":{},\"id\":\"1224\",\"type\":\"CellEditor\"},{\"attributes\":{\"text_align\":\"right\"},\"id\":\"1238\",\"type\":\"NumberFormatter\"},{\"attributes\":{},\"id\":\"1245\",\"type\":\"UnionRenderers\"},{\"attributes\":{\"columns\":[{\"id\":\"1225\"},{\"id\":\"1230\"},{\"id\":\"1235\"},{\"id\":\"1240\"}],\"configuration\":{\"columns\":[{\"field\":\"index\",\"sorter\":\"number\"},{\"field\":\"0\"},{\"field\":\"1\",\"sorter\":\"number\"},{\"field\":\"2\",\"sorter\":\"number\"}],\"dataTree\":false,\"selectable\":true},\"hidden_columns\":[\"index\"],\"indexes\":[\"index\"],\"layout\":\"fit_data_table\",\"margin\":[5,10,5,10],\"max_page\":1,\"name\":\"\",\"page\":1,\"page_size\":10,\"pagination\":\"local\",\"select_mode\":true,\"selectable_rows\":null,\"source\":{\"id\":\"1220\"},\"styles\":{\"data\":{},\"id\":\"a959cab684ba469db047bfb3106ae706\"},\"subscribed_events\":[\"cell-click\",\"table-edit\"],\"theme_url\":\"https://cdn.jsdelivr.net/npm/@holoviz/panel@0.14.1/dist/bundled/datatabulator/tabulator-tables@5.3.2/dist/css/\"},\"id\":\"1243\",\"type\":\"panel.models.tabulator.DataTabulator\"},{\"attributes\":{\"data\":{\"0\":[\"aws-open-data\"],\"1\":[16000500512039],\"2\":[31671899],\"index\":[0]},\"selected\":{\"id\":\"1221\"},\"selection_policy\":{\"id\":\"1245\"}},\"id\":\"1220\",\"type\":\"ColumnDataSource\"},{\"attributes\":{},\"id\":\"1228\",\"type\":\"StringFormatter\"},{\"attributes\":{},\"id\":\"1229\",\"type\":\"StringEditor\"},{\"attributes\":{\"editor\":{\"id\":\"1224\"},\"field\":\"index\",\"formatter\":{\"id\":\"1222\"},\"title\":\"index\",\"width\":0},\"id\":\"1225\",\"type\":\"TableColumn\"},{\"attributes\":{\"editor\":{\"id\":\"1229\"},\"field\":\"0\",\"formatter\":{\"id\":\"1228\"},\"title\":\"0\",\"width\":0},\"id\":\"1230\",\"type\":\"TableColumn\"},{\"attributes\":{\"editor\":{\"id\":\"1234\"},\"field\":\"1\",\"formatter\":{\"id\":\"1233\"},\"title\":\"1\",\"width\":0},\"id\":\"1235\",\"type\":\"TableColumn\"},{\"attributes\":{\"text_align\":\"left\"},\"id\":\"1222\",\"type\":\"NumberFormatter\"},{\"attributes\":{\"editor\":{\"id\":\"1239\"},\"field\":\"2\",\"formatter\":{\"id\":\"1238\"},\"title\":\"2\",\"width\":0},\"id\":\"1240\",\"type\":\"TableColumn\"},{\"attributes\":{},\"id\":\"1234\",\"type\":\"IntEditor\"}],\"root_ids\":[\"1243\",\"1251\"]},\"title\":\"Bokeh Application\",\"version\":\"2.4.3\"}};\n",
       "    var render_items = [{\"docid\":\"92fc5fe9-5216-4646-aa93-047713bd1afe\",\"root_ids\":[\"1243\"],\"roots\":{\"1243\":\"388a9e30-9220-4d83-93cc-cee748027aaf\"}}];\n",
       "    root.Bokeh.embed.embed_items_notebook(docs_json, render_items);\n",
       "    for (const render_item of render_items) {\n",
       "      for (const root_id of render_item.root_ids) {\n",
       "\tconst id_el = document.getElementById(root_id)\n",
       "\tif (id_el.children.length && (id_el.children[0].className === 'bk-root')) {\n",
       "\t  const root_el = id_el.children[0]\n",
       "\t  root_el.id = root_el.id + '-rendered'\n",
       "\t}\n",
       "      }\n",
       "    }\n",
       "  }\n",
       "  if (root.Bokeh !== undefined && root.Bokeh.Panel !== undefined && ( root['Tabulator'] !== undefined) && ( root['Tabulator'] !== undefined)) {\n",
       "    embed_document(root);\n",
       "  } else {\n",
       "    var attempts = 0;\n",
       "    var timer = setInterval(function(root) {\n",
       "      if (root.Bokeh !== undefined && root.Bokeh.Panel !== undefined && (root['Tabulator'] !== undefined) && (root['Tabulator'] !== undefined)) {\n",
       "        clearInterval(timer);\n",
       "        embed_document(root);\n",
       "      } else if (document.readyState == \"complete\") {\n",
       "        attempts++;\n",
       "        if (attempts > 200) {\n",
       "          clearInterval(timer);\n",
       "          console.log(\"Bokeh: ERROR: Unable to run BokehJS code because BokehJS library is missing\");\n",
       "        }\n",
       "      }\n",
       "    }, 25, root)\n",
       "  }\n",
       "})(window);</script>"
      ],
      "text/plain": [
       "Tabulator(hidden_columns=['index'], page_size=10, pagination='local', value=              ...)"
      ]
     },
     "execution_count": 16,
     "metadata": {
      "application/vnd.holoviews_exec.v0+json": {
       "id": "1243"
      }
     },
     "output_type": "execute_result"
    }
   ],
   "source": [
    "%%time\n",
    "\n",
    "# example of looking to a specific catalog,bucket\n",
    "ShowRecords(client.execute(\"\"\"\n",
    "\tSELECT catalog,SUM(tot_size) as tot_size, SUM(num_files) as num_files\n",
    "\tFROM nsdf.aggregated_catalog \n",
    "\tWHERE catalog='aws-open-data' and bucket='noaa-cors-pds'\n",
    "\tGROUP BY catalog\n",
    "\"\"\"))"
   ]
  },
  {
   "cell_type": "code",
   "execution_count": 17,
   "metadata": {},
   "outputs": [
    {
     "name": "stdout",
     "output_type": "stream",
     "text": [
      "{}\n",
      "CPU times: user 296 ms, sys: 0 ns, total: 296 ms\n",
      "Wall time: 48.2 s\n"
     ]
    },
    {
     "data": {},
     "metadata": {},
     "output_type": "display_data"
    },
    {
     "data": {
      "application/vnd.holoviews_exec.v0+json": "",
      "text/html": [
       "<div id='1275'>\n",
       "  <div class=\"bk-root\" id=\"8e282876-e3ca-4e8e-a3f4-f5dba8f439b1\" data-root-id=\"1275\"></div>\n",
       "</div>\n",
       "<script type=\"application/javascript\">(function(root) {\n",
       "  function embed_document(root) {\n",
       "    var docs_json = {\"01b1f277-3553-4074-bbe1-443a3aa8ce31\":{\"defs\":[{\"extends\":null,\"module\":null,\"name\":\"ReactiveHTML1\",\"overrides\":[],\"properties\":[]},{\"extends\":null,\"module\":null,\"name\":\"FlexBox1\",\"overrides\":[],\"properties\":[{\"default\":\"flex-start\",\"kind\":null,\"name\":\"align_content\"},{\"default\":\"flex-start\",\"kind\":null,\"name\":\"align_items\"},{\"default\":\"row\",\"kind\":null,\"name\":\"flex_direction\"},{\"default\":\"wrap\",\"kind\":null,\"name\":\"flex_wrap\"},{\"default\":\"flex-start\",\"kind\":null,\"name\":\"justify_content\"}]},{\"extends\":null,\"module\":null,\"name\":\"GridStack1\",\"overrides\":[],\"properties\":[{\"default\":\"warn\",\"kind\":null,\"name\":\"mode\"},{\"default\":null,\"kind\":null,\"name\":\"ncols\"},{\"default\":null,\"kind\":null,\"name\":\"nrows\"},{\"default\":true,\"kind\":null,\"name\":\"allow_resize\"},{\"default\":true,\"kind\":null,\"name\":\"allow_drag\"},{\"default\":[],\"kind\":null,\"name\":\"state\"}]},{\"extends\":null,\"module\":null,\"name\":\"click1\",\"overrides\":[],\"properties\":[{\"default\":\"\",\"kind\":null,\"name\":\"terminal_output\"},{\"default\":\"\",\"kind\":null,\"name\":\"debug_name\"},{\"default\":0,\"kind\":null,\"name\":\"clears\"}]},{\"extends\":null,\"module\":null,\"name\":\"NotificationAreaBase1\",\"overrides\":[],\"properties\":[{\"default\":\"bottom-right\",\"kind\":null,\"name\":\"position\"},{\"default\":0,\"kind\":null,\"name\":\"_clear\"}]},{\"extends\":null,\"module\":null,\"name\":\"NotificationArea1\",\"overrides\":[],\"properties\":[{\"default\":[],\"kind\":null,\"name\":\"notifications\"},{\"default\":\"bottom-right\",\"kind\":null,\"name\":\"position\"},{\"default\":0,\"kind\":null,\"name\":\"_clear\"},{\"default\":[{\"background\":\"#ffc107\",\"icon\":{\"className\":\"fas fa-exclamation-triangle\",\"color\":\"white\",\"tagName\":\"i\"},\"type\":\"warning\"},{\"background\":\"#007bff\",\"icon\":{\"className\":\"fas fa-info-circle\",\"color\":\"white\",\"tagName\":\"i\"},\"type\":\"info\"}],\"kind\":null,\"name\":\"types\"}]},{\"extends\":null,\"module\":null,\"name\":\"Notification\",\"overrides\":[],\"properties\":[{\"default\":null,\"kind\":null,\"name\":\"background\"},{\"default\":3000,\"kind\":null,\"name\":\"duration\"},{\"default\":null,\"kind\":null,\"name\":\"icon\"},{\"default\":\"\",\"kind\":null,\"name\":\"message\"},{\"default\":null,\"kind\":null,\"name\":\"notification_type\"},{\"default\":false,\"kind\":null,\"name\":\"_destroyed\"}]},{\"extends\":null,\"module\":null,\"name\":\"TemplateActions1\",\"overrides\":[],\"properties\":[{\"default\":0,\"kind\":null,\"name\":\"open_modal\"},{\"default\":0,\"kind\":null,\"name\":\"close_modal\"}]},{\"extends\":null,\"module\":null,\"name\":\"MaterialTemplateActions1\",\"overrides\":[],\"properties\":[{\"default\":0,\"kind\":null,\"name\":\"open_modal\"},{\"default\":0,\"kind\":null,\"name\":\"close_modal\"}]}],\"roots\":{\"references\":[{\"attributes\":{\"columns\":[{\"id\":\"1267\"},{\"id\":\"1272\"}],\"configuration\":{\"columns\":[{\"field\":\"index\",\"sorter\":\"number\"},{\"field\":\"0\",\"sorter\":\"number\"}],\"dataTree\":false,\"selectable\":true},\"hidden_columns\":[\"index\"],\"indexes\":[\"index\"],\"layout\":\"fit_data_table\",\"margin\":[5,10,5,10],\"max_page\":1,\"name\":\"\",\"page\":1,\"page_size\":10,\"pagination\":\"local\",\"select_mode\":true,\"selectable_rows\":null,\"source\":{\"id\":\"1262\"},\"styles\":{\"data\":{},\"id\":\"ab80a09781dd4eafa4f55b15d759a287\"},\"subscribed_events\":[\"cell-click\",\"table-edit\"],\"theme_url\":\"https://cdn.jsdelivr.net/npm/@holoviz/panel@0.14.1/dist/bundled/datatabulator/tabulator-tables@5.3.2/dist/css/\"},\"id\":\"1275\",\"type\":\"panel.models.tabulator.DataTabulator\"},{\"attributes\":{},\"id\":\"1277\",\"type\":\"UnionRenderers\"},{\"attributes\":{\"client_comm_id\":\"32624c73dc86410fbb26632b103b28ec\",\"comm_id\":\"04babaeae4314fdba86a0192e6ad2053\",\"plot_id\":\"1275\"},\"id\":\"1283\",\"type\":\"panel.models.comm_manager.CommManager\"},{\"attributes\":{\"text_align\":\"right\"},\"id\":\"1270\",\"type\":\"NumberFormatter\"},{\"attributes\":{\"editor\":{\"id\":\"1271\"},\"field\":\"0\",\"formatter\":{\"id\":\"1270\"},\"title\":\"0\",\"width\":0},\"id\":\"1272\",\"type\":\"TableColumn\"},{\"attributes\":{},\"id\":\"1266\",\"type\":\"CellEditor\"},{\"attributes\":{\"editor\":{\"id\":\"1266\"},\"field\":\"index\",\"formatter\":{\"id\":\"1264\"},\"title\":\"index\",\"width\":0},\"id\":\"1267\",\"type\":\"TableColumn\"},{\"attributes\":{},\"id\":\"1271\",\"type\":\"IntEditor\"},{\"attributes\":{\"indices\":[]},\"id\":\"1263\",\"type\":\"Selection\"},{\"attributes\":{\"text_align\":\"left\"},\"id\":\"1264\",\"type\":\"NumberFormatter\"},{\"attributes\":{\"data\":{\"0\":[250251],\"index\":[0]},\"selected\":{\"id\":\"1263\"},\"selection_policy\":{\"id\":\"1277\"}},\"id\":\"1262\",\"type\":\"ColumnDataSource\"}],\"root_ids\":[\"1275\",\"1283\"]},\"title\":\"Bokeh Application\",\"version\":\"2.4.3\"}};\n",
       "    var render_items = [{\"docid\":\"01b1f277-3553-4074-bbe1-443a3aa8ce31\",\"root_ids\":[\"1275\"],\"roots\":{\"1275\":\"8e282876-e3ca-4e8e-a3f4-f5dba8f439b1\"}}];\n",
       "    root.Bokeh.embed.embed_items_notebook(docs_json, render_items);\n",
       "    for (const render_item of render_items) {\n",
       "      for (const root_id of render_item.root_ids) {\n",
       "\tconst id_el = document.getElementById(root_id)\n",
       "\tif (id_el.children.length && (id_el.children[0].className === 'bk-root')) {\n",
       "\t  const root_el = id_el.children[0]\n",
       "\t  root_el.id = root_el.id + '-rendered'\n",
       "\t}\n",
       "      }\n",
       "    }\n",
       "  }\n",
       "  if (root.Bokeh !== undefined && root.Bokeh.Panel !== undefined && ( root['Tabulator'] !== undefined) && ( root['Tabulator'] !== undefined)) {\n",
       "    embed_document(root);\n",
       "  } else {\n",
       "    var attempts = 0;\n",
       "    var timer = setInterval(function(root) {\n",
       "      if (root.Bokeh !== undefined && root.Bokeh.Panel !== undefined && (root['Tabulator'] !== undefined) && (root['Tabulator'] !== undefined)) {\n",
       "        clearInterval(timer);\n",
       "        embed_document(root);\n",
       "      } else if (document.readyState == \"complete\") {\n",
       "        attempts++;\n",
       "        if (attempts > 200) {\n",
       "          clearInterval(timer);\n",
       "          console.log(\"Bokeh: ERROR: Unable to run BokehJS code because BokehJS library is missing\");\n",
       "        }\n",
       "      }\n",
       "    }, 25, root)\n",
       "  }\n",
       "})(window);</script>"
      ],
      "text/plain": [
       "Tabulator(hidden_columns=['index'], page_size=10, pagination='local', value=        0\n",
       "0  250251)"
      ]
     },
     "execution_count": 17,
     "metadata": {
      "application/vnd.holoviews_exec.v0+json": {
       "id": "1275"
      }
     },
     "output_type": "execute_result"
    }
   ],
   "source": [
    "%%time\n",
    "\n",
    "# LIKE query for looking into filenames (Need to scan the whole dataset)\n",
    "ShowRecords(client.execute(\"\"\"\n",
    "\tSELECT count(*) from nsdf.catalog\n",
    "\tWHERE name like '%aaaa%'\n",
    "\"\"\"))"
   ]
  },
  {
   "cell_type": "code",
   "execution_count": 21,
   "metadata": {},
   "outputs": [
    {
     "name": "stdout",
     "output_type": "stream",
     "text": [
      "{0: 'catalog', 1: 'tot_size'}\n",
      "CPU times: user 0 ns, sys: 4.44 ms, total: 4.44 ms\n",
      "Wall time: 118 ms\n"
     ]
    },
    {
     "data": {},
     "metadata": {},
     "output_type": "display_data"
    },
    {
     "data": {
      "application/vnd.holoviews_exec.v0+json": "",
      "text/html": [
       "<div id='1349'>\n",
       "  <div class=\"bk-root\" id=\"67143134-2121-49d3-ac64-16f20af20481\" data-root-id=\"1349\"></div>\n",
       "</div>\n",
       "<script type=\"application/javascript\">(function(root) {\n",
       "  function embed_document(root) {\n",
       "    var docs_json = {\"7b4127a9-3fc1-4dfe-816d-2825e40f5867\":{\"defs\":[{\"extends\":null,\"module\":null,\"name\":\"ReactiveHTML1\",\"overrides\":[],\"properties\":[]},{\"extends\":null,\"module\":null,\"name\":\"FlexBox1\",\"overrides\":[],\"properties\":[{\"default\":\"flex-start\",\"kind\":null,\"name\":\"align_content\"},{\"default\":\"flex-start\",\"kind\":null,\"name\":\"align_items\"},{\"default\":\"row\",\"kind\":null,\"name\":\"flex_direction\"},{\"default\":\"wrap\",\"kind\":null,\"name\":\"flex_wrap\"},{\"default\":\"flex-start\",\"kind\":null,\"name\":\"justify_content\"}]},{\"extends\":null,\"module\":null,\"name\":\"GridStack1\",\"overrides\":[],\"properties\":[{\"default\":\"warn\",\"kind\":null,\"name\":\"mode\"},{\"default\":null,\"kind\":null,\"name\":\"ncols\"},{\"default\":null,\"kind\":null,\"name\":\"nrows\"},{\"default\":true,\"kind\":null,\"name\":\"allow_resize\"},{\"default\":true,\"kind\":null,\"name\":\"allow_drag\"},{\"default\":[],\"kind\":null,\"name\":\"state\"}]},{\"extends\":null,\"module\":null,\"name\":\"click1\",\"overrides\":[],\"properties\":[{\"default\":\"\",\"kind\":null,\"name\":\"terminal_output\"},{\"default\":\"\",\"kind\":null,\"name\":\"debug_name\"},{\"default\":0,\"kind\":null,\"name\":\"clears\"}]},{\"extends\":null,\"module\":null,\"name\":\"NotificationAreaBase1\",\"overrides\":[],\"properties\":[{\"default\":\"bottom-right\",\"kind\":null,\"name\":\"position\"},{\"default\":0,\"kind\":null,\"name\":\"_clear\"}]},{\"extends\":null,\"module\":null,\"name\":\"NotificationArea1\",\"overrides\":[],\"properties\":[{\"default\":[],\"kind\":null,\"name\":\"notifications\"},{\"default\":\"bottom-right\",\"kind\":null,\"name\":\"position\"},{\"default\":0,\"kind\":null,\"name\":\"_clear\"},{\"default\":[{\"background\":\"#ffc107\",\"icon\":{\"className\":\"fas fa-exclamation-triangle\",\"color\":\"white\",\"tagName\":\"i\"},\"type\":\"warning\"},{\"background\":\"#007bff\",\"icon\":{\"className\":\"fas fa-info-circle\",\"color\":\"white\",\"tagName\":\"i\"},\"type\":\"info\"}],\"kind\":null,\"name\":\"types\"}]},{\"extends\":null,\"module\":null,\"name\":\"Notification\",\"overrides\":[],\"properties\":[{\"default\":null,\"kind\":null,\"name\":\"background\"},{\"default\":3000,\"kind\":null,\"name\":\"duration\"},{\"default\":null,\"kind\":null,\"name\":\"icon\"},{\"default\":\"\",\"kind\":null,\"name\":\"message\"},{\"default\":null,\"kind\":null,\"name\":\"notification_type\"},{\"default\":false,\"kind\":null,\"name\":\"_destroyed\"}]},{\"extends\":null,\"module\":null,\"name\":\"TemplateActions1\",\"overrides\":[],\"properties\":[{\"default\":0,\"kind\":null,\"name\":\"open_modal\"},{\"default\":0,\"kind\":null,\"name\":\"close_modal\"}]},{\"extends\":null,\"module\":null,\"name\":\"MaterialTemplateActions1\",\"overrides\":[],\"properties\":[{\"default\":0,\"kind\":null,\"name\":\"open_modal\"},{\"default\":0,\"kind\":null,\"name\":\"close_modal\"}]}],\"roots\":{\"references\":[{\"attributes\":{},\"id\":\"1335\",\"type\":\"CellEditor\"},{\"attributes\":{\"indices\":[]},\"id\":\"1332\",\"type\":\"Selection\"},{\"attributes\":{\"text_align\":\"right\"},\"id\":\"1344\",\"type\":\"NumberFormatter\"},{\"attributes\":{\"editor\":{\"id\":\"1335\"},\"field\":\"index\",\"formatter\":{\"id\":\"1333\"},\"title\":\"index\",\"width\":0},\"id\":\"1336\",\"type\":\"TableColumn\"},{\"attributes\":{},\"id\":\"1345\",\"type\":\"IntEditor\"},{\"attributes\":{\"columns\":[{\"id\":\"1336\"},{\"id\":\"1341\"},{\"id\":\"1346\"}],\"configuration\":{\"columns\":[{\"field\":\"index\",\"sorter\":\"number\"},{\"field\":\"0\"},{\"field\":\"1\",\"sorter\":\"number\"}],\"dataTree\":false,\"selectable\":true},\"hidden_columns\":[\"index\"],\"indexes\":[\"index\"],\"layout\":\"fit_data_table\",\"margin\":[5,10,5,10],\"max_page\":6,\"name\":\"\",\"page\":1,\"page_size\":10,\"pagination\":\"local\",\"select_mode\":true,\"selectable_rows\":null,\"source\":{\"id\":\"1331\"},\"styles\":{\"data\":{},\"id\":\"02d37c08e32a4c4bafa1a64b72a293c1\"},\"subscribed_events\":[\"cell-click\",\"table-edit\"],\"theme_url\":\"https://cdn.jsdelivr.net/npm/@holoviz/panel@0.14.1/dist/bundled/datatabulator/tabulator-tables@5.3.2/dist/css/\"},\"id\":\"1349\",\"type\":\"panel.models.tabulator.DataTabulator\"},{\"attributes\":{\"editor\":{\"id\":\"1345\"},\"field\":\"1\",\"formatter\":{\"id\":\"1344\"},\"title\":\"tot_size\",\"width\":0},\"id\":\"1346\",\"type\":\"TableColumn\"},{\"attributes\":{\"data\":{\"0\":[\"aws-open-data\",\"ranch\",\"cyverse\",\"arecibo\",\"zenodo.org\",\"http://dataverse.harvard.edu\",\"http://dataverse.asu.edu\",\"mdf\",\"digitalrocksportal\",\"http://dataverse.no\",\"http://borealisdata.ca\",\"mc\",\"http://dataverse.nl\",\"http://heidata.uni-heidelberg.de\",\"http://dataverse.uclouvain.be\",\"http://abacus.library.ubc.ca\",\"http://data.goettingen-research-online.de\",\"http://researchdata.ntu.edu.sg\",\"http://edatos.consorciomadrono.es\",\"http://archive.data.jhu.edu\",\"http://dataverse.openforestdata.pl\",\"http://dataverse.fiu.edu\",\"http://dataverse.vtti.vt.edu\",\"http://dataverse.lib.virginia.edu\",\"http://data.qdr.syr.edu\",\"http://data.mel.cgiar.org\",\"http://researchdata.cuhk.edu.hk\",\"http://dataverse.iit.it\",\"http://opendata.pku.edu.cn\",\"http://data.fz-juelich.de\",\"http://dadosdepesquisa.fiocruz.br\",\"http://dataverse.nioz.nl\",\"http://dataverse.unimi.it\",\"http://dataverse.lib.umanitoba.ca\",\"http://datasets.iisg.amsterdam\",\"http://datos.uchile.cl\",\"http://dataverse.lib.unb.ca\",\"http://dataverse.ird.fr\",\"http://research-data.ifsttar.fr\",\"http://researchdata.nie.edu.sg\",\"http://data.aussda.at\",\"http://repositoriopesquisas.ibict.br\",\"http://research-data.urosario.edu.co\",\"http://lida.dataverse.lt\",\"http://datos.pucp.edu.pe\",\"http://dataverse.theacss.org\",\"http://dataverse.ifdc.org\",\"http://dataverse.pushdom.ru\",\"http://dataverse.dartmouth.edu\",\"http://dadosabertos.rnp.br\",\"http://data.crossda.hr\"],\"1\":[45896377854088004,36750124831337770,1127291010605520,491912368698644,373254832657873,67068721314700,18386183101620,16238831619785,8953576105178,6742545513339,6290108488644,5750975594582,5500210742435,4910272919031,2702157935207,2523669452315,1979938660977,1847275613012,1834646091675,1815170325288,1802094273226,1015633490390,342680111353,185479561658,61860894572,54394703993,51038467582,44187057965,42573070255,37438130632,35515177964,26430898428,20410998252,18444574285,15967160841,15807150732,12359129706,11878141969,10963912136,8689163984,8278057769,5212653691,3377176035,2617089824,2466726063,1445462900,1310021157,1240025239,238576534,192285302,149388007],\"index\":[0,1,2,3,4,5,6,7,8,9,10,11,12,13,14,15,16,17,18,19,20,21,22,23,24,25,26,27,28,29,30,31,32,33,34,35,36,37,38,39,40,41,42,43,44,45,46,47,48,49,50]},\"selected\":{\"id\":\"1332\"},\"selection_policy\":{\"id\":\"1351\"}},\"id\":\"1331\",\"type\":\"ColumnDataSource\"},{\"attributes\":{\"text_align\":\"left\"},\"id\":\"1333\",\"type\":\"NumberFormatter\"},{\"attributes\":{},\"id\":\"1339\",\"type\":\"StringFormatter\"},{\"attributes\":{},\"id\":\"1340\",\"type\":\"StringEditor\"},{\"attributes\":{},\"id\":\"1351\",\"type\":\"UnionRenderers\"},{\"attributes\":{\"client_comm_id\":\"075625c38dd241f99a047228fd42e188\",\"comm_id\":\"2807f438c1bf4d0c9e4b573f6c38cff0\",\"plot_id\":\"1349\"},\"id\":\"1357\",\"type\":\"panel.models.comm_manager.CommManager\"},{\"attributes\":{\"editor\":{\"id\":\"1340\"},\"field\":\"0\",\"formatter\":{\"id\":\"1339\"},\"title\":\"catalog\",\"width\":0},\"id\":\"1341\",\"type\":\"TableColumn\"}],\"root_ids\":[\"1349\",\"1357\"]},\"title\":\"Bokeh Application\",\"version\":\"2.4.3\"}};\n",
       "    var render_items = [{\"docid\":\"7b4127a9-3fc1-4dfe-816d-2825e40f5867\",\"root_ids\":[\"1349\"],\"roots\":{\"1349\":\"67143134-2121-49d3-ac64-16f20af20481\"}}];\n",
       "    root.Bokeh.embed.embed_items_notebook(docs_json, render_items);\n",
       "    for (const render_item of render_items) {\n",
       "      for (const root_id of render_item.root_ids) {\n",
       "\tconst id_el = document.getElementById(root_id)\n",
       "\tif (id_el.children.length && (id_el.children[0].className === 'bk-root')) {\n",
       "\t  const root_el = id_el.children[0]\n",
       "\t  root_el.id = root_el.id + '-rendered'\n",
       "\t}\n",
       "      }\n",
       "    }\n",
       "  }\n",
       "  if (root.Bokeh !== undefined && root.Bokeh.Panel !== undefined && ( root['Tabulator'] !== undefined) && ( root['Tabulator'] !== undefined)) {\n",
       "    embed_document(root);\n",
       "  } else {\n",
       "    var attempts = 0;\n",
       "    var timer = setInterval(function(root) {\n",
       "      if (root.Bokeh !== undefined && root.Bokeh.Panel !== undefined && (root['Tabulator'] !== undefined) && (root['Tabulator'] !== undefined)) {\n",
       "        clearInterval(timer);\n",
       "        embed_document(root);\n",
       "      } else if (document.readyState == \"complete\") {\n",
       "        attempts++;\n",
       "        if (attempts > 200) {\n",
       "          clearInterval(timer);\n",
       "          console.log(\"Bokeh: ERROR: Unable to run BokehJS code because BokehJS library is missing\");\n",
       "        }\n",
       "      }\n",
       "    }, 25, root)\n",
       "  }\n",
       "})(window);</script>"
      ],
      "text/plain": [
       "Tabulator(hidden_columns=['index'], page_size=10, pagination='local', titles={0: 'catalog', ...}, value=              ...)"
      ]
     },
     "execution_count": 21,
     "metadata": {
      "application/vnd.holoviews_exec.v0+json": {
       "id": "1349"
      }
     },
     "output_type": "execute_result"
    }
   ],
   "source": [
    "%%time\n",
    "\n",
    "# tot_size per catalog\n",
    "ShowRecords(client.execute(\"\"\"\n",
    "\tSELECT catalog, SUM(tot_size) as tot_size\n",
    "\tFROM nsdf.aggregated_catalog\n",
    "\tGROUP BY catalog\n",
    "\tORDER by tot_size DESC\n",
    "\"\"\"),titles=[\"catalog\", \"tot_size\"])"
   ]
  },
  {
   "cell_type": "code",
   "execution_count": 26,
   "metadata": {},
   "outputs": [
    {
     "name": "stdout",
     "output_type": "stream",
     "text": [
      "{}\n",
      "CPU times: user 8.53 ms, sys: 0 ns, total: 8.53 ms\n",
      "Wall time: 600 ms\n"
     ]
    },
    {
     "data": {},
     "metadata": {},
     "output_type": "display_data"
    },
    {
     "data": {
      "application/vnd.holoviews_exec.v0+json": "",
      "text/html": [
       "<div id='1433'>\n",
       "  <div class=\"bk-root\" id=\"4e61b6ec-dcf4-46d9-9e26-4eb366b2c8e5\" data-root-id=\"1433\"></div>\n",
       "</div>\n",
       "<script type=\"application/javascript\">(function(root) {\n",
       "  function embed_document(root) {\n",
       "    var docs_json = {\"59effb2d-d551-4ca5-bdac-903a78a0dd7b\":{\"defs\":[{\"extends\":null,\"module\":null,\"name\":\"ReactiveHTML1\",\"overrides\":[],\"properties\":[]},{\"extends\":null,\"module\":null,\"name\":\"FlexBox1\",\"overrides\":[],\"properties\":[{\"default\":\"flex-start\",\"kind\":null,\"name\":\"align_content\"},{\"default\":\"flex-start\",\"kind\":null,\"name\":\"align_items\"},{\"default\":\"row\",\"kind\":null,\"name\":\"flex_direction\"},{\"default\":\"wrap\",\"kind\":null,\"name\":\"flex_wrap\"},{\"default\":\"flex-start\",\"kind\":null,\"name\":\"justify_content\"}]},{\"extends\":null,\"module\":null,\"name\":\"GridStack1\",\"overrides\":[],\"properties\":[{\"default\":\"warn\",\"kind\":null,\"name\":\"mode\"},{\"default\":null,\"kind\":null,\"name\":\"ncols\"},{\"default\":null,\"kind\":null,\"name\":\"nrows\"},{\"default\":true,\"kind\":null,\"name\":\"allow_resize\"},{\"default\":true,\"kind\":null,\"name\":\"allow_drag\"},{\"default\":[],\"kind\":null,\"name\":\"state\"}]},{\"extends\":null,\"module\":null,\"name\":\"click1\",\"overrides\":[],\"properties\":[{\"default\":\"\",\"kind\":null,\"name\":\"terminal_output\"},{\"default\":\"\",\"kind\":null,\"name\":\"debug_name\"},{\"default\":0,\"kind\":null,\"name\":\"clears\"}]},{\"extends\":null,\"module\":null,\"name\":\"NotificationAreaBase1\",\"overrides\":[],\"properties\":[{\"default\":\"bottom-right\",\"kind\":null,\"name\":\"position\"},{\"default\":0,\"kind\":null,\"name\":\"_clear\"}]},{\"extends\":null,\"module\":null,\"name\":\"NotificationArea1\",\"overrides\":[],\"properties\":[{\"default\":[],\"kind\":null,\"name\":\"notifications\"},{\"default\":\"bottom-right\",\"kind\":null,\"name\":\"position\"},{\"default\":0,\"kind\":null,\"name\":\"_clear\"},{\"default\":[{\"background\":\"#ffc107\",\"icon\":{\"className\":\"fas fa-exclamation-triangle\",\"color\":\"white\",\"tagName\":\"i\"},\"type\":\"warning\"},{\"background\":\"#007bff\",\"icon\":{\"className\":\"fas fa-info-circle\",\"color\":\"white\",\"tagName\":\"i\"},\"type\":\"info\"}],\"kind\":null,\"name\":\"types\"}]},{\"extends\":null,\"module\":null,\"name\":\"Notification\",\"overrides\":[],\"properties\":[{\"default\":null,\"kind\":null,\"name\":\"background\"},{\"default\":3000,\"kind\":null,\"name\":\"duration\"},{\"default\":null,\"kind\":null,\"name\":\"icon\"},{\"default\":\"\",\"kind\":null,\"name\":\"message\"},{\"default\":null,\"kind\":null,\"name\":\"notification_type\"},{\"default\":false,\"kind\":null,\"name\":\"_destroyed\"}]},{\"extends\":null,\"module\":null,\"name\":\"TemplateActions1\",\"overrides\":[],\"properties\":[{\"default\":0,\"kind\":null,\"name\":\"open_modal\"},{\"default\":0,\"kind\":null,\"name\":\"close_modal\"}]},{\"extends\":null,\"module\":null,\"name\":\"MaterialTemplateActions1\",\"overrides\":[],\"properties\":[{\"default\":0,\"kind\":null,\"name\":\"open_modal\"},{\"default\":0,\"kind\":null,\"name\":\"close_modal\"}]}],\"roots\":{\"references\":[{\"attributes\":{\"columns\":[{\"id\":\"1415\"},{\"id\":\"1420\"},{\"id\":\"1425\"},{\"id\":\"1430\"}],\"configuration\":{\"columns\":[{\"field\":\"index\",\"sorter\":\"number\"},{\"field\":\"0\"},{\"field\":\"1\"},{\"field\":\"2\",\"sorter\":\"number\"}],\"dataTree\":false,\"selectable\":true},\"hidden_columns\":[\"index\"],\"indexes\":[\"index\"],\"layout\":\"fit_data_table\",\"margin\":[5,10,5,10],\"max_page\":10,\"name\":\"\",\"page\":1,\"page_size\":10,\"pagination\":\"local\",\"select_mode\":true,\"selectable_rows\":null,\"source\":{\"id\":\"1410\"},\"styles\":{\"data\":{},\"id\":\"e553acc4b343414db13dd46e84f1d9e3\"},\"subscribed_events\":[\"cell-click\",\"table-edit\"],\"theme_url\":\"https://cdn.jsdelivr.net/npm/@holoviz/panel@0.14.1/dist/bundled/datatabulator/tabulator-tables@5.3.2/dist/css/\"},\"id\":\"1433\",\"type\":\"panel.models.tabulator.DataTabulator\"},{\"attributes\":{\"editor\":{\"id\":\"1414\"},\"field\":\"index\",\"formatter\":{\"id\":\"1412\"},\"title\":\"index\",\"width\":0},\"id\":\"1415\",\"type\":\"TableColumn\"},{\"attributes\":{\"indices\":[]},\"id\":\"1411\",\"type\":\"Selection\"},{\"attributes\":{\"text_align\":\"left\"},\"id\":\"1412\",\"type\":\"NumberFormatter\"},{\"attributes\":{},\"id\":\"1414\",\"type\":\"CellEditor\"},{\"attributes\":{},\"id\":\"1423\",\"type\":\"StringFormatter\"},{\"attributes\":{\"data\":{\"0\":[\"aws-open-data\",\"ranch\",\"ranch\",\"ranch\",\"aws-open-data\",\"aws-open-data\",\"aws-open-data\",\"ranch\",\"ranch\",\"aws-open-data\",\"aws-open-data\",\"aws-open-data\",\"aws-open-data\",\"aws-open-data\",\"aws-open-data\",\"aws-open-data\",\"ranch\",\"aws-open-data\",\"aws-open-data\",\"aws-open-data\",\"aws-open-data\",\"ranch\",\"ranch\",\"aws-open-data\",\"aws-open-data\",\"aws-open-data\",\"ranch\",\"ranch\",\"ranch\",\"ranch\",\"aws-open-data\",\"aws-open-data\",\"ranch\",\"ranch\",\"ranch\",\"aws-open-data\",\"aws-open-data\",\"aws-open-data\",\"ranch\",\"ranch\",\"ranch\",\"ranch\",\"aws-open-data\",\"aws-open-data\",\"aws-open-data\",\"ranch\",\"aws-open-data\",\"aws-open-data\",\"aws-open-data\",\"ranch\",\"ranch\",\"aws-open-data\",\"ranch\",\"ranch\",\"ranch\",\"ranch\",\"ranch\",\"aws-open-data\",\"aws-open-data\",\"ranch\",\"ranch\",\"aws-open-data\",\"ranch\",\"aws-open-data\",\"ranch\",\"aws-open-data\",\"aws-open-data\",\"aws-open-data\",\"aws-open-data\",\"arecibo\",\"aws-open-data\",\"ranch\",\"aws-open-data\",\"aws-open-data\",\"ranch\",\"ranch\",\"aws-open-data\",\"aws-open-data\",\"aws-open-data\",\"ranch\",\"ranch\",\"ranch\",\"ranch\",\"aws-open-data\",\"ranch\",\"ranch\",\"aws-open-data\",\"aws-open-data\",\"ranch\",\"ranch\",\"aws-open-data\",\"ranch\",\"ranch\",\"ranch\",\"aws-open-data\",\"aws-open-data\",\"aws-open-data\",\"ranch\",\"ranch\",\"aws-open-data\"],\"1\":[\"sra-pub-run-odp\",\"AST20015\",\"PHY20003\",\"CTS20009\",\"deafrica-sentinel-2\",\"noaa-hrrr-bdp-pds\",\"noaa-gefs-pds\",\"rctftacc\",\"ATM20005\",\"human-pangenomics\",\"sra-pub-sars-cov2\",\"noaa-gfs-bdp-pds\",\"cmip6-pds\",\"encode-public\",\"wrf-cmip6-noversioning\",\"nrel-pds-wtk\",\"vadim_ncsa\",\"zinc3d\",\"1000genomes\",\"esgf-world\",\"sra-pub-src-1\",\"TG-PHY190045\",\"AST20007\",\"smithsonian-open-access\",\"meeo-s3-cog\",\"stpubdata\",\"AST20006\",\"TG-PHY060011N\",\"TG-MCA93S002\",\"TG-CTS070067N\",\"sentinel1-slc-seasia-pds\",\"genomeark\",\"TG-ATM140042\",\"TG-AST120060\",\"AST21005\",\"noaa-nbm-grib2-pds\",\"noaa-cfs-pds\",\"sra-pub-src-2\",\"FTA-Hopkins\",\"ATM20006\",\"TG-ATM170028\",\"tg-mca94p018\",\"1000genomes-dragen\",\"1000genomes-dragen-3.7.6\",\"nrel-pds-nsrdb\",\"TG-MCA95C006\",\"ncar-cesm2-lens\",\"noaa-rrfs-pds\",\"globalnightlight\",\"TG-ATM160026\",\"TG-AST090005\",\"deafrica-services\",\"TG-ATM180015\",\"DPP20001\",\"TG-AST170024\",\"AST20023\",\"TG-AST120062\",\"deafrica-sentinel-1\",\"fmi-opendata-rcrhirlam-pressure-grib\",\"TG-PHY160025\",\"TG-ATM140021\",\"noaa-rap-pds\",\"TERRA-REF\",\"nrel-pds-building-stock\",\"TG-AST090040\",\"mwapublic\",\"allen-mouse-brain-atlas\",\"noaa-jpss\",\"nara-1950-census\",\"S3453\",\"4dn-open-data-public\",\"TG-IBN180001\",\"noaa-nam-pds\",\"allen-brain-observatory\",\"TG-CTS110029\",\"Understanding-High-I\",\"ncbi-blast-databases\",\"noaa-ufs-prototypes-pds\",\"noaa-wcsd-pds\",\"TG-CTS090004\",\"TG-MCA94P017\",\"TG-OCE140024\",\"TG-AST100038\",\"terrafusiondatasampler\",\"AST20022\",\"TG-CTS190040\",\"noaa-nwm-retrospective-2-1-pds\",\"nrel-pds-porotomo\",\"TG-AST140064\",\"CHE20010\",\"dnastack-covid-19-sra-data\",\"TG-PHY170024\",\"TG-CTS130035\",\"TG-PHY190020\",\"janelia-flylight-imagery\",\"bdc-sentinel-2\",\"pan-ukb-us-east-1\",\"Immunology-Next-Gen\",\"TG-MCA08X016\",\"czb-tabula-muris-senis\"],\"2\":[13616090404273786,9044348820142835,4315046973201938,2528266508417821,2389902124666594,2144318216738649,1890930002645210,1497793189666427,1445297808898192,1305993292339773,1277290521037110,1209050479955871,1148834292829024,1116055817219781,1092653770074732,1047123617568157,1020396706530486,908857843257200,766146676540309,745947232550862,744473640184946,689666322703851,684995398716994,680520790880528,658805267229503,633224320331558,582730435229914,567780335170789,516036775065258,509146522766381,503065461483646,474263085912655,471219417156984,450225961691355,448430307180800,444890172785565,426255112757384,423464139676603,421288102149554,418561371904813,407107330707422,402520576014670,389586500582586,376743106874602,373874421506947,357515444724402,340055569572865,338452154890302,315295841644983,303121458224340,297728909676808,297726552292496,271426723121469,269977012051098,258244220987416,252428363600817,245854459809295,236905058161691,236562027471339,235465004761429,233285814285153,231977807400629,221784967779744,215839706684697,215722195831425,211137243497428,208919616135918,208125663159243,207480342112935,196962502721760,189221162587726,176533693087762,175478875768513,174586402617606,169740761352331,169585347204771,168968047301519,167353160210996,166290107748619,165002329687459,157414844308471,152793815422058,152113635825892,149781420700424,148041937647617,145506889081134,145336974960549,145260956286326,144263366155069,143377004605374,142887316260596,137851811205033,133699874786931,132579960005949,132056317404407,124112904931135,120802361050704,119742467296505,119664254771662,116119240784895],\"index\":[0,1,2,3,4,5,6,7,8,9,10,11,12,13,14,15,16,17,18,19,20,21,22,23,24,25,26,27,28,29,30,31,32,33,34,35,36,37,38,39,40,41,42,43,44,45,46,47,48,49,50,51,52,53,54,55,56,57,58,59,60,61,62,63,64,65,66,67,68,69,70,71,72,73,74,75,76,77,78,79,80,81,82,83,84,85,86,87,88,89,90,91,92,93,94,95,96,97,98,99]},\"selected\":{\"id\":\"1411\"},\"selection_policy\":{\"id\":\"1435\"}},\"id\":\"1410\",\"type\":\"ColumnDataSource\"},{\"attributes\":{},\"id\":\"1419\",\"type\":\"StringEditor\"},{\"attributes\":{\"editor\":{\"id\":\"1429\"},\"field\":\"2\",\"formatter\":{\"id\":\"1428\"},\"title\":\"2\",\"width\":0},\"id\":\"1430\",\"type\":\"TableColumn\"},{\"attributes\":{\"text_align\":\"right\"},\"id\":\"1428\",\"type\":\"NumberFormatter\"},{\"attributes\":{\"client_comm_id\":\"15e81942072947dabe44fe9a60c14e36\",\"comm_id\":\"ce8f81df17b24306a6976e798ecbe290\",\"plot_id\":\"1433\"},\"id\":\"1441\",\"type\":\"panel.models.comm_manager.CommManager\"},{\"attributes\":{},\"id\":\"1435\",\"type\":\"UnionRenderers\"},{\"attributes\":{\"editor\":{\"id\":\"1424\"},\"field\":\"1\",\"formatter\":{\"id\":\"1423\"},\"title\":\"1\",\"width\":0},\"id\":\"1425\",\"type\":\"TableColumn\"},{\"attributes\":{},\"id\":\"1429\",\"type\":\"IntEditor\"},{\"attributes\":{\"editor\":{\"id\":\"1419\"},\"field\":\"0\",\"formatter\":{\"id\":\"1418\"},\"title\":\"0\",\"width\":0},\"id\":\"1420\",\"type\":\"TableColumn\"},{\"attributes\":{},\"id\":\"1418\",\"type\":\"StringFormatter\"},{\"attributes\":{},\"id\":\"1424\",\"type\":\"StringEditor\"}],\"root_ids\":[\"1433\",\"1441\"]},\"title\":\"Bokeh Application\",\"version\":\"2.4.3\"}};\n",
       "    var render_items = [{\"docid\":\"59effb2d-d551-4ca5-bdac-903a78a0dd7b\",\"root_ids\":[\"1433\"],\"roots\":{\"1433\":\"4e61b6ec-dcf4-46d9-9e26-4eb366b2c8e5\"}}];\n",
       "    root.Bokeh.embed.embed_items_notebook(docs_json, render_items);\n",
       "    for (const render_item of render_items) {\n",
       "      for (const root_id of render_item.root_ids) {\n",
       "\tconst id_el = document.getElementById(root_id)\n",
       "\tif (id_el.children.length && (id_el.children[0].className === 'bk-root')) {\n",
       "\t  const root_el = id_el.children[0]\n",
       "\t  root_el.id = root_el.id + '-rendered'\n",
       "\t}\n",
       "      }\n",
       "    }\n",
       "  }\n",
       "  if (root.Bokeh !== undefined && root.Bokeh.Panel !== undefined && ( root['Tabulator'] !== undefined) && ( root['Tabulator'] !== undefined)) {\n",
       "    embed_document(root);\n",
       "  } else {\n",
       "    var attempts = 0;\n",
       "    var timer = setInterval(function(root) {\n",
       "      if (root.Bokeh !== undefined && root.Bokeh.Panel !== undefined && (root['Tabulator'] !== undefined) && (root['Tabulator'] !== undefined)) {\n",
       "        clearInterval(timer);\n",
       "        embed_document(root);\n",
       "      } else if (document.readyState == \"complete\") {\n",
       "        attempts++;\n",
       "        if (attempts > 200) {\n",
       "          clearInterval(timer);\n",
       "          console.log(\"Bokeh: ERROR: Unable to run BokehJS code because BokehJS library is missing\");\n",
       "        }\n",
       "      }\n",
       "    }, 25, root)\n",
       "  }\n",
       "})(window);</script>"
      ],
      "text/plain": [
       "Tabulator(hidden_columns=['index'], page_size=10, pagination='local', value=              ...)"
      ]
     },
     "execution_count": 26,
     "metadata": {
      "application/vnd.holoviews_exec.v0+json": {
       "id": "1433"
      }
     },
     "output_type": "execute_result"
    }
   ],
   "source": [
    "%%time\n",
    "\n",
    "# size per catalog,bucket\n",
    "ShowRecords(client.execute(\"\"\"\n",
    "\tSELECT catalog, bucket, SUM(tot_size) as tot_size\n",
    "\tFROM nsdf.aggregated_catalog\n",
    "\tGROUP BY catalog, bucket\n",
    "\tORDER BY tot_size DESC\n",
    " LIMIT 100\n",
    "\"\"\"))"
   ]
  },
  {
   "cell_type": "code",
   "execution_count": 27,
   "metadata": {},
   "outputs": [
    {
     "data": {
      "image/png": "[encoded data removed]",
      "text/plain": [
       "<Figure size 307.2x230.4 with 1 Axes>"
      ]
     },
     "metadata": {},
     "output_type": "display_data"
    },
    {
     "name": "stdout",
     "output_type": "stream",
     "text": [
      "CPU times: user 8.57 s, sys: 2.59 s, total: 11.2 s\n",
      "Wall time: 13.9 s\n"
     ]
    }
   ],
   "source": [
    "%%time\n",
    "\n",
    "def PlotSizes(filename, sizes, W=1024*0.3,H=768*0.3):\n",
    "\tipd = 1/plt.rcParams['figure.dpi'] \n",
    "\tplt.figure(figsize=(W*ipd,H*ipd))\n",
    "\tplt.title(f\"{filename} #({len(sizes)}) m({sizes[0]}) M({sizes[-1]})\")\n",
    "\tplt.plot(range(len(sizes)), sorted(sizes))\n",
    "\tos.makedirs(os.path.dirname(filename),exist_ok=True)\n",
    "\tplt.savefig(filename)\n",
    "\tplt.show()\n",
    "\n",
    "sizes=[int(it[0]) for it in client.execute(\"SELECT size from nsdf.catalog where catalog='aws-open-data' and bucket='streaming-orcasound-net' ORDER BY size ASC\")]\n",
    "PlotSizes(filename=f\"/tmp/plots/temp.png\",sizes=sizes)"
   ]
  }
 ],
 "metadata": {
  "kernelspec": {
   "display_name": "Python 3.9.15 64-bit",
   "language": "python",
   "name": "python3"
  },
  "language_info": {
   "codemirror_mode": {
    "name": "ipython",
    "version": 3
   },
   "file_extension": ".py",
   "mimetype": "text/x-python",
   "name": "python",
   "nbconvert_exporter": "python",
   "pygments_lexer": "ipython3",
   "version": "3.9.15"
  },
  "orig_nbformat": 4,
  "vscode": {
   "interpreter": {
    "hash": "f9f85f796d01129d0dd105a088854619f454435301f6ffec2fea96ecbd9be4ac"
   }
  }
 },
 "nbformat": 4,
 "nbformat_minor": 2
}
