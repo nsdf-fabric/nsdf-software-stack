{
 "cells": [
  {
   "cell_type": "code",
   "execution_count": null,
   "metadata": {},
   "outputs": [],
   "source": [
    "import OpenVisus as ov\n",
    "\n",
    "from PIL import Image\n",
    "from urllib.request import urlopen\n",
    "import matplotlib.pyplot as plt\n",
    "import shutil\n",
    "import numpy\n",
    "\n",
    "def LoadImage(filename):\n",
    "\tif filename.startswith('http'):\n",
    "\t\tfilename=urlopen(filename) \n",
    "\treturn numpy.asarray(Image.open(filename))\n",
    "\n",
    "def ShowImage(data,width=10):\n",
    "\tratio=float(data.shape[1])/data.shape[0]\n",
    "\tfig = plt.figure(figsize = (width,width*ratio))\n",
    "\tax = fig.add_subplot(1,1,1)\n",
    "\tax.imshow(data, origin='lower')\n",
    "\tplt.show()\n",
    "\n",
    "# each timestep is ~21GB (x100 ~2.1TB)\n",
    "db=ov.LoadDataset(\"https://s3.us-west-1.wasabisys.com/exxon_pari_jan2013-time/visus.idx\")\n",
    "print(db.getDatasetBody().toString())\n",
    "\n",
    "# change as needed\n",
    "access_key=\"XXXXX\"\n",
    "secret_access_key=\"YYYYY\"\n",
    "\n",
    "access= db.createAccessForBlockQuery(ov.StringTree.fromString(\"\"\"\n",
    "\t<access type='multiplex'>\n",
    "\t\t<access  type='disk' chmod='rw' url='file:///tmp/cache/exxon_pari_jan2013-time/visus.idx' />\n",
    "\t\t<access type=\"CloudStorageAccess\"  chmod='r' compression='zip'\n",
    "\t\t\turl='https://s3.us-west-1.wasabisys.com/exxon_pari_jan2013-time/visus.idx?access_key={access_key}&amp;secret_key={secret_access_key}' \n",
    "\t\t\tfilename_template='/exxon_pari_jan2013-time/$(time)/$(field)/$(block:%016x)' />\n",
    "\t</access>\n",
    "\"\"\".format(access_key=access_key,secret_access_key=secret_access_key)))\n",
    "# print(access)\n"
   ]
  },
  {
   "cell_type": "code",
   "execution_count": null,
   "metadata": {},
   "outputs": [],
   "source": [
    "data=db.read(access=access, z=[512,513], time=80,quality=-6)"
   ]
  },
  {
   "cell_type": "code",
   "execution_count": null,
   "metadata": {},
   "outputs": [],
   "source": [
    "ShowImage(data[0,:,:])"
   ]
  },
  {
   "cell_type": "code",
   "execution_count": null,
   "metadata": {},
   "outputs": [],
   "source": []
  }
 ],
 "metadata": {
  "kernelspec": {
   "display_name": "Python 3.6.8 64-bit",
   "language": "python",
   "name": "python3"
  },
  "language_info": {
   "codemirror_mode": {
    "name": "ipython",
    "version": 3
   },
   "file_extension": ".py",
   "mimetype": "text/x-python",
   "name": "python",
   "nbconvert_exporter": "python",
   "pygments_lexer": "ipython3",
   "version": "3.8.10"
  },
  "orig_nbformat": 4,
  "vscode": {
   "interpreter": {
    "hash": "916dbcbb3f70747c44a77c7bcd40155683ae19c65e1c03b4aa3499c5328201f1"
   }
  }
 },
 "nbformat": 4,
 "nbformat_minor": 2
}
