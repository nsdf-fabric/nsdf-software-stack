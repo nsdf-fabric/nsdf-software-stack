{
 "cells": [
  {
   "cell_type": "markdown",
   "metadata": {},
   "source": [
    "| ![nsdf](https://www.sci.utah.edu/~pascucci/public/NSDF-smaller.PNG)  | [National Science Data Fabric](https://nationalsciencedatafabric.org/) [Jupyter notebook](https://jupyter.org/) <br> created by  [Valerio Pascucci](http://cedmav.com/) and  [Giorgio Scorzelli](https://www.sci.utah.edu/people/scrgiorgio.html)  |  \n",
    "|---|:---:|\n",
    "\n",
    "# Distribution of the data related by the following paper: \n",
    "\n",
    "### 4D micro-CT imaging of oil- and waterflood in water- and mixed-wet complex sandstones \n",
    "\n",
    "__Authors:__  _A. Mascini, M. Boone, S. Wang, S. Van Offenwert, V. Cnudde, and T. Bultreys_ \n",
    "\n",
    "__Published in:__  Fluid invasion dynamics in porous media with complex wettability and connectivity. Geophysical Review Letters. 2021\n",
    "\n",
    "https://doi.org/10.1029/2021GL095185\n",
    "\n",
    "[Dataset available though  the Digital Rocks Portal](https://www.digitalrocksportal.org/projects/378)"
   ]
  },
  {
   "cell_type": "markdown",
   "metadata": {},
   "source": [
    "#  <center> This is a preview of the data:\n",
    "![Visualization of Covid-19 cases](https://www.sci.utah.edu/~pascucci/public/open_4D_micro_CT.gif)"
   ]
  },
  {
   "cell_type": "markdown",
   "metadata": {},
   "source": [
    "### <center>  Import modules and install them if missing. Check print message to see if the kernel should be restarted."
   ]
  },
  {
   "cell_type": "code",
   "execution_count": null,
   "metadata": {},
   "outputs": [],
   "source": [
    "import os,sys\n",
    "try:\n",
    "    import matplotlib.pyplot as plt, skimage, OpenVisus\n",
    "except:\n",
    "    !\"{sys.executable}\" -m pip install matplotlib scikit-image OpenVisus\n",
    "    from IPython.display import display_html\n",
    "    def restartkernel() :\n",
    "        display_html('''<script>Jupyter.notebook.kernel.restart(); \n",
    "        setTimeout(function(){IPython.notebook.execute_all_cells();}, 10)</script>''',raw=True)\n",
    "    restartkernel()\n",
    "    print()\n",
    "    print(\"********************************************************\")\n",
    "    print(\"** Restart jupyter kernel manually to use new modules **\")\n",
    "    print(\"********************************************************\")"
   ]
  },
  {
   "cell_type": "markdown",
   "metadata": {},
   "source": [
    "# <center> Connect to dataset and print basic information"
   ]
  },
  {
   "cell_type": "code",
   "execution_count": null,
   "metadata": {},
   "outputs": [],
   "source": [
    "MicroCT=OpenVisus.LoadDataset('http://atlantis.sci.utah.edu/mod_visus?dataset=4D_micro_CT_sandstones&cached=1')\n",
    "print(\"Scalar fields names=\",MicroCT.getFields())\n",
    "print(\"Dataset [x,y,z] dimensions=\",MicroCT.getLogicBox()[1])"
   ]
  },
  {
   "cell_type": "markdown",
   "metadata": {},
   "source": [
    "# <center> Get a slice and display"
   ]
  },
  {
   "cell_type": "code",
   "execution_count": null,
   "metadata": {},
   "outputs": [],
   "source": [
    "fig, plots = plt.subplots(nrows=1, ncols=1)\n",
    "fig.set_size_inches(18.5, 10.5)\n",
    "\n",
    "#slice = MicroCT.getXSlice(150,-3)\n",
    "slice = MicroCT.getXSlice()\n",
    "\n",
    "im = plots.imshow(slice) \n",
    "plt.colorbar(im)\n",
    "plt.show()"
   ]
  },
  {
   "cell_type": "code",
   "execution_count": null,
   "metadata": {},
   "outputs": [],
   "source": [
    "print(\"Slice horizontal dim=\",slice.shape[1],\"Slice vertical dim=\",slice.shape[0])"
   ]
  },
  {
   "cell_type": "markdown",
   "metadata": {},
   "source": [
    "---------------------------\n",
    "Copyright (c) 2021 **Valerio Pascucci & Giorgio Scorzelli** \n",
    "\n",
    "Permission is hereby granted, free of charge, to any person obtaining a copy of this software and associated documentation files (the \"Software\"), to deal in the Software without restriction, including without limitation the rights to use, copy, modify, merge, publish, distribute, sublicense, and/or sell copies of the Software, and to permit persons to whom the Software is furnished to do so, subject to the following conditions:\n",
    "\n",
    "**The above copyright notice and this permission notice shall be included in all copies or substantial portions of the Software.** \n",
    "\n",
    "THE SOFTWARE IS PROVIDED \"AS IS\", WITHOUT WARRANTY OF ANY KIND, EXPRESS OR\n",
    "IMPLIED, INCLUDING BUT NOT LIMITED TO THE WARRANTIES OF MERCHANTABILITY,\n",
    "FITNESS FOR A PARTICULAR PURPOSE AND NONINFRINGEMENT. IN NO EVENT SHALL THE\n",
    "AUTHORS OR COPYRIGHT HOLDERS BE LIABLE FOR ANY CLAIM, DAMAGES OR OTHER\n",
    "LIABILITY, WHETHER IN AN ACTION OF CONTRACT, TORT OR OTHERWISE, ARISING FROM,\n",
    "OUT OF OR IN CONNECTION WITH THE SOFTWARE OR THE USE OR OTHER DEALINGS IN THE\n",
    "SOFTWARE."
   ]
  },
  {
   "cell_type": "code",
   "execution_count": null,
   "metadata": {},
   "outputs": [],
   "source": []
  }
 ],
 "metadata": {
  "kernelspec": {
   "display_name": "Python 3",
   "language": "python",
   "name": "python3"
  },
  "language_info": {
   "codemirror_mode": {
    "name": "ipython",
    "version": 3
   },
   "file_extension": ".py",
   "mimetype": "text/x-python",
   "name": "python",
   "nbconvert_exporter": "python",
   "pygments_lexer": "ipython3",
   "version": "3.7.9"
  }
 },
 "nbformat": 4,
 "nbformat_minor": 5
}
