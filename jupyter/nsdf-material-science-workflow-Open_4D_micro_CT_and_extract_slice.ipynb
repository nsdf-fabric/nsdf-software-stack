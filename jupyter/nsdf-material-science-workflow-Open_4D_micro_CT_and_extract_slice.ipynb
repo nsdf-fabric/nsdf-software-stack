{
 "cells": [
  {
   "cell_type": "markdown",
   "metadata": {},
   "source": [
    "| ![nsdf](https://www.sci.utah.edu/~pascucci/public/NSDF-smaller.PNG)  | [National Science Data Fabric](https://nationalsciencedatafabric.org/) [Jupyter notebook](https://jupyter.org/) <br> created by  [Valerio Pascucci](http://cedmav.com/) and  [Giorgio Scorzelli](https://www.sci.utah.edu/people/scrgiorgio.html)  |  \n",
    "|---|:---:|\n",
    "\n",
    "# Distribution of the data related by the following paper: \n",
    "\n",
    "### 4D micro-CT imaging of oil- and waterflood in water- and mixed-wet complex sandstones \n",
    "\n",
    "__Authors:__  _A. Mascini, M. Boone, S. Wang, S. Van Offenwert, V. Cnudde, and T. Bultreys_ \n",
    "\n",
    "__Published in:__  Fluid invasion dynamics in porous media with complex wettability and connectivity. Geophysical Review Letters. 2021\n",
    "\n",
    "https://doi.org/10.1029/2021GL095185\n",
    "\n",
    "[Dataset available though  the Digital Rocks Portal](https://www.digitalrocksportal.org/projects/378)"
   ]
  },
  {
   "cell_type": "markdown",
   "metadata": {},
   "source": [
    "#  <center> This is a preview of the data:\n",
    "![Visualization of Covid-19 cases](https://www.sci.utah.edu/~pascucci/public/open_4D_micro_CT.gif)"
   ]
  },
  {
   "cell_type": "markdown",
   "metadata": {},
   "source": [
    "### <center>  Import modules and install them if missing. Check print message to see if the kernel should be restarted."
   ]
  },
  {
   "cell_type": "code",
   "execution_count": null,
   "metadata": {},
   "outputs": [],
   "source": [
    "import os,sys\n",
    "def restartkernel() :\n",
    "    display_html('''<script>Jupyter.notebook.kernel.restart(); \n",
    "    //setTimeout(function(){IPython.notebook.execute_all_cells();\n",
    "    }, 100)</script>''',raw=True)\n",
    "\n",
    "try:\n",
    "    import matplotlib.pyplot as plt, skimage, OpenVisus as ov, getversion as gv, packaging as pk\n",
    "    if pk.version.parse(gv.get_module_version(ov)[0]) < pk.version.parse(\"2.1.184\"):\n",
    "        !\"{sys.executable}\" -m pip install matplotlib scikit-image getversion packaging --upgrade OpenVisus \n",
    "        restartkernel()\n",
    "except:\n",
    "    !\"{sys.executable}\" -m pip install matplotlib scikit-image getversion packaging --upgrade OpenVisus \n",
    "    from IPython.display import display_html\n",
    "    print()\n",
    "    print(\"************************************************************\")\n",
    "    print(\"** Restarting jupyter kernel to use new modules installed **\")\n",
    "    print(\"**          Evaluate all cells from the beginning.        **\")\n",
    "    print(\"************************************************************\")\n",
    "    restartkernel()"
   ]
  },
  {
   "cell_type": "code",
   "execution_count": null,
   "metadata": {},
   "outputs": [],
   "source": [
    "import matplotlib.pyplot as plt, skimage, OpenVisus as ov, getversion as gv, packaging as pk, numpy as np"
   ]
  },
  {
   "cell_type": "markdown",
   "metadata": {},
   "source": [
    "# <center> Connect to dataset and print basic information"
   ]
  },
  {
   "cell_type": "code",
   "execution_count": null,
   "metadata": {},
   "outputs": [],
   "source": [
    "MicroCT=ov.LoadDataset('http://atlantis.sci.utah.edu/mod_visus?dataset=4D_micro_CT_sandstones&cached=1')\n",
    "print(\"Scalar fields names=\",MicroCT.getFields())\n",
    "(X1,Y1,Z1),(X2,Y2,Z2) = MicroCT.getLogicBox()\n",
    "print(\"Dataset [x,y,z] dimensions=\",MicroCT.getLogicBox()[1])"
   ]
  },
  {
   "cell_type": "code",
   "execution_count": null,
   "metadata": {},
   "outputs": [],
   "source": [
    "fig, plots = plt.subplots(nrows=1, ncols=1)\n",
    "fig.set_size_inches(18.5, 10.5)\n",
    "\n",
    "vol=MicroCT.read(z=[512,513],quality=0) \n",
    "slice = np.reshape(vol, vol.shape[1:])\n",
    "\n",
    "im = plots.imshow(slice)\n",
    "plt.colorbar(im)\n",
    "plt.show()\n",
    "print(slice.shape)"
   ]
  },
  {
   "cell_type": "code",
   "execution_count": null,
   "metadata": {},
   "outputs": [],
   "source": [
    "print(\"Slice horizontal dim=\",slice.shape[1],\"Slice vertical dim=\",slice.shape[0])"
   ]
  },
  {
   "cell_type": "markdown",
   "metadata": {},
   "source": [
    "# <center> Mark the area of interest in the slice"
   ]
  },
  {
   "cell_type": "code",
   "execution_count": null,
   "metadata": {},
   "outputs": [],
   "source": [
    "fig, plots = plt.subplots(nrows=1, ncols=1)\n",
    "fig.set_size_inches(18.5, 10.5)\n",
    "\n",
    "#slice = MicroCT.getXSlice(500,-3)\n",
    "#slice = MicroCT.getXYSlice()\n",
    "\n",
    "x_min, x_max, y_min, y_max = 800, 1100, 400, 700\n",
    "plt.plot([X1, X2 ], [y_min, y_min], color = 'r')\n",
    "plt.plot([X1, X2 ], [y_max, y_max], color = 'r')\n",
    "print(MicroCT.getLogicBox()[1][0])\n",
    "plt.plot([x_min, x_min],[Y1, Y2 ],  color = 'r')\n",
    "plt.plot([x_max, x_max],[Y1, Y2 ],  color = 'r')\n",
    "print(MicroCT.getLogicBox()[1][1])\n",
    "\n",
    "im = plots.imshow(slice) \n",
    "plt.colorbar(im)\n",
    "plt.show()"
   ]
  },
  {
   "cell_type": "markdown",
   "metadata": {},
   "source": [
    "# <center> Extract and show the area of interest"
   ]
  },
  {
   "cell_type": "code",
   "execution_count": null,
   "metadata": {},
   "outputs": [],
   "source": [
    "fig, plots = plt.subplots(nrows=1, ncols=1)\n",
    "fig.set_size_inches(18.5, 10.5)\n",
    "\n",
    "vol=MicroCT.read(x=[x_min, x_max], y=[y_min, y_max], z=[512,513]) \n",
    "print(vol.shape)\n",
    "slice = np.reshape(vol, vol.shape[1:])\n",
    "\n",
    "im = plots.imshow(slice) \n",
    "plt.colorbar(im)\n",
    "plt.show()"
   ]
  },
  {
   "cell_type": "markdown",
   "metadata": {},
   "source": [
    "---------------------------\n",
    "Copyright (c) 2021 **Valerio Pascucci & Giorgio Scorzelli** \n",
    "\n",
    "Permission is hereby granted, free of charge, to any person obtaining a copy of this software and associated documentation files (the \"Software\"), to deal in the Software without restriction, including without limitation the rights to use, copy, modify, merge, publish, distribute, sublicense, and/or sell copies of the Software, and to permit persons to whom the Software is furnished to do so, subject to the following conditions:\n",
    "\n",
    "**The above copyright notice and this permission notice shall be included in all copies or substantial portions of the Software.** \n",
    "\n",
    "THE SOFTWARE IS PROVIDED \"AS IS\", WITHOUT WARRANTY OF ANY KIND, EXPRESS OR\n",
    "IMPLIED, INCLUDING BUT NOT LIMITED TO THE WARRANTIES OF MERCHANTABILITY,\n",
    "FITNESS FOR A PARTICULAR PURPOSE AND NONINFRINGEMENT. IN NO EVENT SHALL THE\n",
    "AUTHORS OR COPYRIGHT HOLDERS BE LIABLE FOR ANY CLAIM, DAMAGES OR OTHER\n",
    "LIABILITY, WHETHER IN AN ACTION OF CONTRACT, TORT OR OTHERWISE, ARISING FROM,\n",
    "OUT OF OR IN CONNECTION WITH THE SOFTWARE OR THE USE OR OTHER DEALINGS IN THE\n",
    "SOFTWARE."
   ]
  },
  {
   "cell_type": "code",
   "execution_count": null,
   "metadata": {},
   "outputs": [],
   "source": []
  }
 ],
 "metadata": {
  "kernelspec": {
   "display_name": "Python 3",
   "language": "python",
   "name": "python3"
  },
  "language_info": {
   "codemirror_mode": {
    "name": "ipython",
    "version": 3
   },
   "file_extension": ".py",
   "mimetype": "text/x-python",
   "name": "python",
   "nbconvert_exporter": "python",
   "pygments_lexer": "ipython3",
   "version": "3.7.9"
  }
 },
 "nbformat": 4,
 "nbformat_minor": 5
}
