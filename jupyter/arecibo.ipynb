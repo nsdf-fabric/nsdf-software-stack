{
 "cells": [
  {
   "cell_type": "code",
   "execution_count": 32,
   "metadata": {},
   "outputs": [],
   "source": [
    "# pip3 install Selenium BeautifulSoup chromedriver-binary\n",
    "from bs4 import BeautifulSoup\n",
    "import requests,json,time\n",
    "\n",
    "# //////////////////////////////////////////////////////////////////////////////\n",
    "# https://kiwidamien.github.io/webscraping-beyond-beautifulsoup-and-selenium.html\n",
    "def GetProjecs(type, prefix=\"https://www.naic.edu/datacatalog/index.php/datasets/view/\"):\n",
    "\tbody=requests.get(f\"https://www.naic.edu/datacatalog/index.php/search{type}\").content\n",
    "\tsoup = BeautifulSoup(body,\"html.parser\")\n",
    "\tret=[]\n",
    "\tfor it in soup.find_all(\"a\",href=True):\n",
    "\t\thref=it[\"href\"]\n",
    "\t\tif not prefix or href.startswith(prefix):\n",
    "\t\t\tid=href.split(\"/\")[-1]\n",
    "\t\t\tret.append({\n",
    "\t\t\t\t'id' : id,\n",
    "\t\t\t\t'type':type\n",
    "\t\t\t}) # last is project id\n",
    "\n",
    "\treturn ret\n",
    "\n",
    "# ////////////////////////////////\n",
    "def GetFiles(proj, url=\"https://www.naic.edu/datacatalog/index.php/datasetsJList\",chunk_length=100000):\n",
    "\n",
    "\t# Open In Chrome something like https://www.naic.edu/datacatalog/index.php/datasets/view/P2016\n",
    "\t# curl -d \"proj=P2016&draw=1&start=0&length=100000000\" -X POST https://www.naic.edu/datacatalog/index.php/datasetsJList\n",
    "\n",
    "\t\"\"\"\n",
    "\tExample:\n",
    "\t{\n",
    "\t\t'id': 'P2016', \n",
    "\t\t'type': 'Astronomy',\n",
    "\t\t'files': [\n",
    "\t\t\t\t{'id': '2547128', 'RemoteFile': 'data20160622191550.000', 'Size': '480000000', 'FileAttributes': '', 'ReqAccess': ''}, \n",
    "\t\t\t\t{'id': '2547129', 'RemoteFile': ...\n",
    "\t\t]\n",
    "\t\"\"\"\n",
    "\n",
    "\tfiles=[]\n",
    "\tt1=time.time()\n",
    "\tprint(f\"GetFiles proj={proj['id']} start...\")\n",
    "\n",
    "\twhile True:\n",
    "\n",
    "\t\tout=requests.post(\n",
    "\t\t\turl, \n",
    "\t\t\tdata={\n",
    "\t\t\t\t'frmt':'',\n",
    "\t\t\t\t'proj':proj['id'],\n",
    "\t\t\t\t'draw':'1',\n",
    "\t\t\t\t'start':len(files),\n",
    "\t\t\t\t'length': chunk_length,}\n",
    "\t\t).content\n",
    "\n",
    "\t\ttry:\n",
    "\t\t\tv=json.loads(\"[{\" + out.decode(\"utf-8\") .split(\"[{\",maxsplit=1)[1].split(\"}]\")[0] + \"}]\")\n",
    "\t\texcept:\n",
    "\t\t\tv=[]\n",
    "\n",
    "\t\tif v:\n",
    "\t\t\tfiles=files+v\n",
    "\t\t\tsec=int(time.time()-t1)\n",
    "\t\t\tprint(f\"...got another chunk proj={proj['id']} tot={len(files)} {sec} seconds\")\n",
    "\n",
    "\t\tif len(v)<chunk_length:\n",
    "\t\t\tbreak\n",
    "\n",
    "\tsec=int(time.time()-t1)\n",
    "\tprint(f\"GetFiles proj={proj['id']} FINISHED tot={len(files)} {sec} seconds\")\n",
    "\tproj['files']=files\n",
    "\n",
    "# ////////////////////////////////////////////////////////\n",
    "def GetFilesEx(proj):\n",
    "\ttry:\n",
    "\t\tGetFiles(proj)\n",
    "\texcept Exception as ex:\n",
    "\t\tprint(f\"FAILED {proj} {str(ex)}\")\n",
    "\n",
    "# ////////////////////////////////////////////////////////\n",
    "def GetProject(id):\n",
    "\tfor proj in projects:\n",
    "\t\tif proj['id']==id:\n",
    "\t\t\treturn proj\n",
    "\treturn None"
   ]
  },
  {
   "cell_type": "code",
   "execution_count": 7,
   "metadata": {},
   "outputs": [],
   "source": [
    "# will return url https://www.naic.edu/datacatalog/index.php/datasets/view/P2016\n",
    "# 487/190/382 datasets\n",
    "projects=\\\n",
    "\tGetProjecs(\"Astronomy\") + \\\n",
    "\tGetProjecs(\"Atmospheric\") + \\\n",
    "\tGetProjecs(\"Planetary\") "
   ]
  },
  {
   "cell_type": "code",
   "execution_count": 33,
   "metadata": {},
   "outputs": [
    {
     "name": "stdout",
     "output_type": "stream",
     "text": [
      "#missing 0\n"
     ]
    },
    {
     "data": {
      "text/plain": [
       "[]"
      ]
     },
     "execution_count": 33,
     "metadata": {},
     "output_type": "execute_result"
    }
   ],
   "source": [
    "from multiprocessing.pool import ThreadPool\n",
    "import time\n",
    "p = ThreadPool(32)\n",
    "\n",
    "# rehentrant call\n",
    "missing=[proj for proj in projects if not 'files' in proj]\n",
    "print(f\"#missing\",len(missing))\n",
    "p.map(GetFiles, missing)"
   ]
  },
  {
   "cell_type": "code",
   "execution_count": null,
   "metadata": {},
   "outputs": [],
   "source": [
    "TOT_BYTES,NUM_FILES=0,0\n",
    "GB=1024*1024*1024\n",
    "for proj in projects:\n",
    "\tfiles= proj['files']\n",
    "\tnum_files=len(files)\n",
    "\n",
    "\tif num_files==0:\n",
    "\t\tcontinue\n",
    "\n",
    "\ttot_bytes=0\n",
    "\tfor file in files:\n",
    "\t\ts_size=file['Size'].split()[0] # sometimes I have spurious char at the end\n",
    "\t\ttot_bytes+=int(s_size)\n",
    "\n",
    "\tprint(f\"proj={proj['id']} num_files={num_files} tot_bytes={tot_bytes} tot_gb={int(tot_bytes/GB)}\")\n",
    "\n",
    "\tTOT_BYTES+=tot_bytes\n",
    "\tNUM_FILES+=num_files\n",
    "\n",
    "print(f\"NUM_FILES={NUM_FILES} TOT_BYTES={TOT_BYTES} TOT_GBYTES={int(TOT_BYTES/GB)}\")"
   ]
  },
  {
   "cell_type": "code",
   "execution_count": 37,
   "metadata": {},
   "outputs": [
    {
     "data": {
      "text/plain": [
       "{'id': '4081816', 'RemoteFile': 'junk', 'Size': '80568', 'FileAttributes': '', 'ReqAccess': ''}"
      ]
     },
     "execution_count": 37,
     "metadata": {},
     "output_type": "execute_result"
    }
   ],
   "source": [
    "GetProject(\"T3364\")['files'][0]"
   ]
  },
  {
   "cell_type": "code",
   "execution_count": 41,
   "metadata": {},
   "outputs": [],
   "source": [
    "import csv\n",
    "\n",
    "rows=[]\n",
    "for proj in projects:\n",
    "\tfor file in proj['files']:\n",
    "\t\tcatalog='arecibo'\n",
    "\t\tbucket=proj['id']\n",
    "\t\tfile_id=file['id'] # should I need it?\n",
    "\t\tname=file['RemoteFile']\n",
    "\t\tsize=int(file['Size'].split()[0])\n",
    "\t\tlast_modified=''\n",
    "\t\tetag=''\n",
    "\t\trows.append((catalog,bucket,name,size,last_modified,etag))\n",
    "\n",
    "with open(\"arecibo.csv\", 'wt') as f:\n",
    "\tcsv.writer(f).writerows(rows)"
   ]
  },
  {
   "cell_type": "code",
   "execution_count": null,
   "metadata": {},
   "outputs": [],
   "source": [
    "# !aws s3 --endpoint-url ${AWS_ENDPOINT_URL} cp jupyter/arecibo.csv s3://nsdf-catalog/arecibo/arecibo.csv"
   ]
  }
 ],
 "metadata": {
  "kernelspec": {
   "display_name": "Python 3.8.10 64-bit",
   "language": "python",
   "name": "python3"
  },
  "language_info": {
   "codemirror_mode": {
    "name": "ipython",
    "version": 3
   },
   "file_extension": ".py",
   "mimetype": "text/x-python",
   "name": "python",
   "nbconvert_exporter": "python",
   "pygments_lexer": "ipython3",
   "version": "3.8.10"
  },
  "orig_nbformat": 4,
  "vscode": {
   "interpreter": {
    "hash": "31f2aee4e71d21fbe5cf8b01ff0e069b9275f58929596ceb00d14d90e3e16cd6"
   }
  }
 },
 "nbformat": 4,
 "nbformat_minor": 2
}
