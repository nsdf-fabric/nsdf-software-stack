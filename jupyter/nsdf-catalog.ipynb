{
 "cells": [
  {
   "cell_type": "code",
   "execution_count": 1,
   "metadata": {},
   "outputs": [
    {
     "name": "stdout",
     "output_type": "stream",
     "text": [
      "!!!!! rw.chcql1nlq37luu78jtmk.at.double.cloud 9440\n"
     ]
    },
    {
     "data": {
      "text/plain": [
       "[]"
      ]
     },
     "execution_count": 1,
     "metadata": {},
     "output_type": "execute_result"
    }
   ],
   "source": [
    "# python3 -m pip install clickhouse-driver\n",
    "\n",
    "import os,sys\n",
    "from clickhouse_driver import connect,Client\n",
    "\n",
    "sys.path.append(\"../\")\n",
    "\n",
    "# you need a ~/.nsdf/vault/vault.yaml file\n",
    "\n",
    "use_nsdf=True\n",
    "if use_nsdf:\n",
    "\tfrom nsdf.kernel import NormalizeEnv, SetEnv\n",
    "\tSetEnv(NormalizeEnv({\n",
    "\t\t\"include-vault\": [\n",
    "\t\t\t\"s3-cloudbank\",\n",
    "\t\t\t\"clickhouse\"\n",
    "\t\t]\n",
    "\t}))\n",
    "else:\n",
    "\t\n",
    "\t# change as needed\n",
    "\tos.environ[\"AWS_ACCESS_KEY_ID\"]=\"XXXXX\"\n",
    "\tos.environ[\"AWS_SECRET_ACCESS_KEY\"]=\"YYYYY\"\n",
    "\n",
    "\tos.environ[\"CLICKHOUSE_HOST\"]=\"rw.chcql1nlq37luu78jtmk.at.double.cloud\"\n",
    "\tos.environ[\"CLICKHOUSE_PORT\"]=9440\n",
    "\tos.environ[\"CLICKHOUSE_USER\"]=\"admin\"\n",
    "\tos.environ[\"CLICKHOUSE_PASSWORD\"]=\"ZZZZZ\"\n",
    "\n",
    "AWS_ACCESS_KEY_ID     = os.environ[\"AWS_ACCESS_KEY_ID\"]\n",
    "AWS_SECRET_ACCESS_KEY = os.environ[\"AWS_SECRET_ACCESS_KEY\"]\n",
    "AWS_ENDPOINT_URL      = os.environ[\"AWS_ENDPOINT_URL\"]\n",
    "\n",
    "CLICKHOUSE_HOST       = os.environ[\"CLICKHOUSE_HOST\"]\n",
    "CLICKHOUSE_PORT       = os.environ[\"CLICKHOUSE_PORT\"]\n",
    "CLICKHOUSE_USER       = os.environ[\"CLICKHOUSE_USER\"]\n",
    "CLICKHOUSE_PASSWORD   = os.environ[\"CLICKHOUSE_PASSWORD\"]\n",
    "\n",
    "BUCKET\t\t= \"nsdf-catalog\"\n",
    "\n",
    "# ////////////////////////////////////////////////////////////////////////\n",
    "def RunShellCommand(cmd):\n",
    "\timport shlex,subprocess\n",
    "\tprint(cmd)\n",
    "\tresult=subprocess.run(shlex.split(cmd), shell=False, check=False,stdout=subprocess.PIPE,stderr=subprocess.STDOUT)\n",
    "\tprint(f\"Run {cmd} returncode={result.returncode}\")\n",
    "\tprint(result.stdout.decode('utf-8'))\n",
    "\n",
    "# ////////////////////////////////////////////////////////////////////////\n",
    "def RunClientCommand(query, prefix_cmd=\"\", allow_errors=0):\n",
    "\tassert '\"'  not in query\n",
    "\tassert \"$\"  not in query\n",
    "\tcmd=f\"clickhouse-client  --host {CLICKHOUSE_HOST} --port {CLICKHOUSE_PORT} --secure --user {CLICKHOUSE_USER} --password {CLICKHOUSE_PASSWORD} --query=\\\"{query}\\\"\"\n",
    "\t\n",
    "\tif prefix_cmd:\n",
    "\t\tcmd=prefix_cmd + \" \" + cmd\n",
    "\n",
    "\tif allow_errors:\n",
    "\t\tcmd=cmd + f\" --input_format_allow_errors_num={allow_errors}\"\n",
    "\tRunShellCommand(cmd)\n",
    "\t\n",
    "# ////////////////////////////////////////////////////////////////////////\n",
    "def InsertRecordsFromS3(prefix, allow_errors=0):\n",
    "\t\"\"\"\n",
    "\thttps://dzone.com/articles/clickhouse-s3-compatible-object-storage\n",
    "\t\"\"\"\n",
    "\treturn RunClientCommand(f\"INSERT INTO nsdf.catalog SELECT * FROM s3('{prefix}','{AWS_ACCESS_KEY_ID}', '{AWS_SECRET_ACCESS_KEY}', 'CSV');\")\n",
    "\n",
    "# ////////////////////////////////////////////////////////////////////////\n",
    "def InsertRecordsFromCSV(filename):\n",
    "\tRunClientCommand(\"INSERT INTO nsdf.catalog FORMAT CSV\", prefix_cmd=f\"cat {filename} |\")\n",
    "\n",
    "# ////////////////////////////////////////////////////////////////////////\n",
    "def Connect():\n",
    "\treturn Client(host=CLICKHOUSE_HOST, port=str(CLICKHOUSE_PORT), user=CLICKHOUSE_USER, password=CLICKHOUSE_PASSWORD, secure=True)\n",
    "\n",
    "client = Connect()\n",
    "client.execute(\"\"\"CREATE DATABASE IF NOT EXISTS nsdf\"\"\")\n",
    "# client.execute(\"\"\"SHOW DATABASES\"\"\")\n",
    "# client.execute(\"\"\"DROP TABLE IF EXISTS nsdf.catalog\"\"\")\n",
    "client.execute(\"\"\"CREATE TABLE IF NOT EXISTS nsdf.catalog(\n",
    "\t\tcatalog\t varchar(64),\n",
    "\t\tbucket\t  varchar(64),\n",
    "\t\tname            varchar(1024),\n",
    "\t\tsize            BIGINT,\n",
    "\t\tlast_modified   varchar(32) NULL,\n",
    "\t\tetag            varchar(256) NULL\n",
    "\t) \n",
    "\tENGINE = MergeTree() \n",
    "\tORDER BY(catalog,bucket)\n",
    "\"\"\")"
   ]
  },
  {
   "cell_type": "code",
   "execution_count": 2,
   "metadata": {},
   "outputs": [],
   "source": [
    "# check AWS credentials work\n",
    "if False:\n",
    "\tRunShellCommand(f\"aws s3 --endpoint-url {AWS_ENDPOINT_URL} ls s3://{BUCKET}/mc/\")\n",
    "\tRunShellCommand(f\"aws s3 --endpoint-url {AWS_ENDPOINT_URL} ls s3://{BUCKET}/aws-open-data/\")\n",
    "\tRunShellCommand(f\"aws s3 --endpoint-url {AWS_ENDPOINT_URL} ls s3://{BUCKET}/digitalrocksportal/projects/\")\n",
    "\tRunShellCommand(f\"aws s3 --endpoint-url {AWS_ENDPOINT_URL} ls s3://{BUCKET}/20220624/csv/mdf/\")\n",
    "\tRunShellCommand(f\"aws s3 --endpoint-url {AWS_ENDPOINT_URL} ls s3://{BUCKET}/arecibo/\")\n",
    "\tRunShellCommand(f\"aws s3 --endpoint-url {AWS_ENDPOINT_URL} ls s3://{BUCKET}/ranch/\")"
   ]
  },
  {
   "cell_type": "code",
   "execution_count": 3,
   "metadata": {},
   "outputs": [],
   "source": [
    "# Examples of SQL INSERT (with statistics)\n",
    "\n",
    "# 25 seconds, 129,117 files, 5,533,076,354,245 (~5TB)\n",
    "# InsertRecordsFromS3(f\"{AWS_ENDPOINT_URL}/{BUCKET}/mc/*.csv\")\n",
    "\n",
    "# 4m 51 seconds, 49,995,452 files, 10,531,224,818,071,513 (~10PB) todo... records I think are more than that\n",
    "# InsertRecordsFromS3(f\"{AWS_ENDPOINT_URL}/{BUCKET}/aws-open-data/*.csv\")\n",
    "\n",
    "# 42 seconds, 8,638 files, 3,328,980,888,119 (~3TB)\n",
    "# InsertRecordsFromS3(f\"{AWS_ENDPOINT_URL}/{BUCKET}/digitalrocksportal/projects/*.csv\")\n",
    "\n",
    "# 2m 39 seconds, 1,075,706 files, 5,243,595,789,858 (~5TB)\n",
    "# InsertRecordsFromS3(f\"{AWS_ENDPOINT_URL}/{BUCKET}/20220624/csv/mdf/*.csv\")\n",
    "\n",
    "# <2m, 2,045,049 files, 491,912,368,698,644 total size (~500TB)\n",
    "# InsertRecordsFromS3(f\"{AWS_ENDPOINT_URL}/{BUCKET}/arecibo/*.csv\")\n",
    "\n",
    "# <2m,  3,745,760 files, 36,750,124,831,337,770 (~34PB)\n",
    "# InsertRecordsFromS3(f\"{AWS_ENDPOINT_URL}/{BUCKET}/ranch/*.csv\", allow_errors=9999999999)"
   ]
  },
  {
   "cell_type": "code",
   "execution_count": 5,
   "metadata": {},
   "outputs": [],
   "source": [
    "# total count per catalog\n",
    "my_table = client.execute(\"\"\"\n",
    "select catalog,COUNT(size),SUM(size)\n",
    "from nsdf.catalog\n",
    "group by catalog;\n",
    "\"\"\")"
   ]
  },
  {
   "cell_type": "code",
   "execution_count": 29,
   "metadata": {},
   "outputs": [
    {
     "name": "stdout",
     "output_type": "stream",
     "text": [
      "repository = all repositories     - number of files = 227M     - total file size = 169PB  \n",
      "repository = all repositories     - number of files = 113M     - total file size = 84PB   \n",
      "repository = all repositories     - number of files = 56M      - total file size = 42PB   \n",
      "repository = ranch                - number of files = 3M       - total file size = 32PB   \n",
      "repository = aws-open-data        - number of files = 49M      - total file size = 9PB    \n",
      "repository = arecibo              - number of files = 2M       - total file size = 447TB  \n",
      "repository = mc                   - number of files = 129117   - total file size = 5TB    \n",
      "repository = mdf                  - number of files = 1M       - total file size = 4TB    \n",
      "repository = digitalrocksportal   - number of files = 8638     - total file size = 3TB    \n",
      "repository = all projects         - number of files = 0        - total file size = 0B     \n"
     ]
    }
   ],
   "source": [
    "def AddSuffix(number,type=\"\", base=1024):\n",
    "\tif number < (base**2): return str(number//(base**0))+type\n",
    "\tif number < (base**2): return str(number//(base**1))+\"K\"+type\n",
    "\tif number < (base**3): return str(number//(base**2))+\"M\"+type\n",
    "\tif number < (base**4): return str(number//(base**3))+\"G\"+type\n",
    "\tif number < (base**5): return str(number//(base**4))+\"T\"+type\n",
    "\treturn str(number//(base**5))+\"P\"+type\n",
    "\n",
    "def PrintInfo(name,count,size):\n",
    "\tprint(\"repository =\",name.ljust(19)\n",
    "\t\t,\" - number of files =\",AddSuffix(count,base=1000).ljust(7)\n",
    "\t\t,\" - total file size =\",AddSuffix(size,base=1024,type=\"B\").ljust(7))\n",
    "\n",
    "if True:\n",
    "\ttot_count,tot_size= 0,0\n",
    "\tfor name,count,size in my_table:\n",
    "\t\ttot_count += count\n",
    "\t\ttot_size += size\n",
    "\tmy_table = [[\"all repositories\",tot_count,tot_size]]+my_table\n",
    "\n",
    "\tmy_table.sort(key=lambda x:-x[2])\n",
    "\trepository_table = list(my_table)\n",
    "\tfor name,count,size in my_table:\n",
    "\t\tPrintInfo(name,count,size)"
   ]
  },
  {
   "cell_type": "code",
   "execution_count": 8,
   "metadata": {},
   "outputs": [
    {
     "name": "stdout",
     "output_type": "stream",
     "text": [
      "[('aws-open-data', 'cbers-meta-pds'), ('aws-open-data', 'njogis-elevation'), ('aws-open-data', '1000genomes'), ('aws-open-data', 'nrel-pds-porotomo'), ('aws-open-data', 'njogis-imagery'), ('aws-open-data', 'noaa-bathymetry-pds'), ('aws-open-data', 'cgiardata'), ('aws-open-data', 'civic-aws-opendata'), ('aws-open-data', 'cmas-amet'), ('aws-open-data', 'cmas-cmaq-conus2-benchmark')]\n"
     ]
    }
   ],
   "source": [
    "import os,sys\n",
    "from pprint import pprint\n",
    "\n",
    "# print all buckets\n",
    "buckets=[it for it in client.execute(f\"SELECT DISTINCT catalog,bucket FROM nsdf.catalog\")]\n",
    "print(buckets[0:10])"
   ]
  },
  {
   "cell_type": "code",
   "execution_count": 30,
   "metadata": {},
   "outputs": [
    {
     "name": "stdout",
     "output_type": "stream",
     "text": [
      "['repository', 'bucket', 'suffix', 'file count', 'files sizes']\n",
      "('aws-open-data', 'nrel-pds-porotomo', '.sac', 4749114, 2423013479096)\n",
      "('aws-open-data', 'amazon-berkeley-objects', '.jpg', 1383551, 162902652787)\n",
      "('aws-open-data', 'noaa-isd-pds', '.gz', 1344396, 133546936385)\n",
      "('aws-open-data', 'noaa-cdr-microwave-imager-brit-temp-csu-pds', '.nc', 1213540, 16124579915690)\n",
      "('aws-open-data', 'esgf-world', '.nc', 1154824, 729500752365989)\n",
      "('aws-open-data', 'sentinel-1-global-coherence-earthbigdata', '.tif', 1033510, 1324914058886)\n",
      "('aws-open-data', 'ncar-cesm-lens', '.0', 1033032, 90882699579430)\n",
      "('aws-open-data', 'mogreps-g', '.nc', 1017548, 43371723047556)\n",
      "('aws-open-data', 'noaa-nos-ofs-pds', '.nc', 874376, 91944116452097)\n",
      "('aws-open-data', 'noaa-nwm-pds', '.nc', 838566, 32208530206818)\n",
      "('aws-open-data', 'encode-public', '.gz', 682260, 241887383679134)\n"
     ]
    }
   ],
   "source": [
    "def GetFileNames (catalog = None, group_buckets = False, group_suffix = False):\n",
    "\tif group_buckets: \n",
    "\t\tgrouping = \"catalog, bucket\"\n",
    "\t\tselecting =\"catalog, bucket\"\n",
    "\t\theader=[\"repository\", \"bucket\", \"file count\", \"files sizes\"]\n",
    "\telif group_suffix:\n",
    "\t\tgrouping  = \"catalog, suffix\"\n",
    "\t\tselecting = \"catalog, suffix\"\n",
    "\t\theader=[\"repository\", \"suffix\",\"file count\", \"files sizes\"]\n",
    "\telse:\n",
    "\t\tgrouping=\"catalog, bucket, suffix\"\n",
    "\t\tselecting = \"catalog, bucket, suffix\"\n",
    "\t\theader=[\"repository\", \"bucket\", \"suffix\",\"file count\", \"files sizes\"]\n",
    "\n",
    "\tcatalog_restriction = f\"catalog='{catalog}'\" if catalog is not None else  \"1==1\"\n",
    " \n",
    "\tret = client.execute(f\"\"\"\n",
    "\t\tSELECT {selecting},count(size) as NumSize,SUM(size) as TotSize\n",
    "\t\tFROM (\n",
    "\t\t\tSELECT \n",
    "\t\t\t\tarrayStringConcat(['.',splitByChar('.',name)[-1]]) as suffix,\n",
    "\t\t\t\tsize as size , \n",
    "\t\t\t\tcatalog, \n",
    "\t\t\t\tbucket\n",
    "\t\t\tFROM \n",
    "\t\t\t\tnsdf.catalog\n",
    "\t\t\tWHERE {catalog_restriction} AND (\n",
    "\t\t\t\tname like '_%._'   OR \n",
    "\t\t\t\tname like '_%.__'  OR \n",
    "\t\t\t\tname like '_%.___' OR \n",
    "\t\t\t\tname like '_%.____'   )\n",
    "\t\t\t) derived_table \n",
    "\t\t\tGROUP BY {grouping} \n",
    "\t\t\tORDER BY NumSize DESC;\n",
    "\t\"\"\")\n",
    "\n",
    "\treturn [header, ret]\n",
    "\n",
    "if True:\n",
    "\theader,rows = GetFileNames()\n",
    "\tprint (header)\n",
    "\tfor I,row in enumerate(rows):\n",
    "\t\tprint(row)\n",
    "\t\tif I>=10: break"
   ]
  },
  {
   "cell_type": "code",
   "execution_count": 11,
   "metadata": {},
   "outputs": [
    {
     "data": {
      "image/png": "[encoded data removed]",
      "text/plain": [
       "<Figure size 1024x768 with 1 Axes>"
      ]
     },
     "metadata": {
      "needs_background": "light"
     },
     "output_type": "display_data"
    }
   ],
   "source": [
    "# example of plot of filesize inside a dataset\n",
    "import pandas as pd\n",
    "import matplotlib.pyplot as plt\n",
    "\n",
    "def PlotSizes(filename,sizes):\n",
    "\tsizes=sorted(sizes)\n",
    "\tipd = 1/plt.rcParams['figure.dpi'] \n",
    "\tplt.figure(figsize=(1024*ipd,768*ipd))\n",
    "\tplt.title(f\"{filename} #({len(sizes)}) m({sizes[0]}) M({sizes[-1]})\")\n",
    "\tplt.plot(range(len(sizes)), sorted(sizes))\n",
    "\tos.makedirs(os.path.dirname(filename),exist_ok=True)\n",
    "\tplt.savefig(filename)\n",
    "\tplt.show()\n",
    "\n",
    "if True:\n",
    "\tfor catalog, bucket in buckets:\n",
    "\t\tsizes=[it[0] for it in client.execute(f\"SELECT size FROM nsdf.catalog WHERE catalog='{catalog}' and bucket='{bucket}'\")]\n",
    "\t\tif not sizes: continue\n",
    "\t\tPlotSizes(filename=f\"/tmp/plots/{catalog}/{bucket}.png\",sizes=sizes)\n",
    "\t\t# remove the `break` if you want all the plots\n",
    "\t\tbreak "
   ]
  },
  {
   "cell_type": "code",
   "execution_count": 31,
   "metadata": {},
   "outputs": [
    {
     "name": "stdout",
     "output_type": "stream",
     "text": [
      "!!!!! rw.chcql1nlq37luu78jtmk.at.double.cloud 9440\n",
      "56999722 44505454.29358273\n"
     ]
    }
   ],
   "source": [
    "# total records 56M files 44PB\n",
    "client = Connect()\n",
    "TOT_FILES,TOT_BYTES=client.execute(f\"SELECT count(size),SUM(size)/(1024*1024*1024) FROM nsdf.catalog;\")[0]\n",
    "print(TOT_FILES,TOT_BYTES)"
   ]
  },
  {
   "cell_type": "code",
   "execution_count": null,
   "metadata": {},
   "outputs": [],
   "source": [
    "# # total size per catalog/bucket\n",
    "client.execute(\"\"\"\n",
    "\tSELECT catalog,bucket, SUM(size) as TotSize\n",
    "\tFROM nsdf.catalog\n",
    "\tGROUP BY catalog,bucket\n",
    "\tORDER BY TotSize DESC;\n",
    "\t\"\"\")"
   ]
  },
  {
   "cell_type": "code",
   "execution_count": null,
   "metadata": {},
   "outputs": [],
   "source": [
    "# total number of objeccts per catalog/bucket\n",
    "client.execute(\"\"\"\n",
    "\tSELECT catalog,bucket, COUNT(size) As NumObjects\n",
    "\tFROM nsdf.catalog\n",
    "\tgroup by catalog,bucket\n",
    "\tORDER BY NumObjects DESC;\n",
    "\"\"\")"
   ]
  },
  {
   "cell_type": "code",
   "execution_count": 15,
   "metadata": {},
   "outputs": [
    {
     "data": {
      "text/plain": [
       "[(0,)]"
      ]
     },
     "execution_count": 15,
     "metadata": {},
     "output_type": "execute_result"
    }
   ],
   "source": [
    "# example of looking to a specific catalog,bucket\n",
    "client.execute(\"\"\"\n",
    "\tSELECT SUM(size) from nsdf.catalog \n",
    "\tWHERE catalog='aws-open-data' and bucket='noaa-cors-pds';\n",
    "\"\"\")\n"
   ]
  },
  {
   "cell_type": "code",
   "execution_count": 16,
   "metadata": {},
   "outputs": [
    {
     "data": {
      "text/plain": [
       "[(44557293,)]"
      ]
     },
     "execution_count": 16,
     "metadata": {},
     "output_type": "execute_result"
    }
   ],
   "source": [
    "# LIKE querry for looking into filenames\n",
    "client.execute(\"\"\"\n",
    "\tSELECT count(*) from nsdf.catalog\n",
    "\twhere name like '%a%'\n",
    "\"\"\")"
   ]
  },
  {
   "cell_type": "code",
   "execution_count": 17,
   "metadata": {},
   "outputs": [
    {
     "data": {
      "text/plain": [
       "[('arecibo', 491912368698644),\n",
       " ('ranch', 36750124831337770),\n",
       " ('mdf', 5243595789858),\n",
       " ('mc', 5533076354245),\n",
       " ('aws-open-data', 10531224818071513),\n",
       " ('digitalrocksportal', 3328980888119)]"
      ]
     },
     "execution_count": 17,
     "metadata": {},
     "output_type": "execute_result"
    }
   ],
   "source": [
    "# size per catalog\n",
    "client.execute(\"\"\"\n",
    "\tSELECT catalog,SUM(size)\n",
    "\tFROM nsdf.catalog\n",
    "\tGROUP BY catalog;\n",
    "\"\"\")"
   ]
  },
  {
   "cell_type": "code",
   "execution_count": null,
   "metadata": {},
   "outputs": [],
   "source": [
    "# SUM per bucket\n",
    "client.execute(\"\"\"\n",
    "\tSELECT catalog,bucket,SUM(size)\n",
    "\tFROM nsdf.catalog\n",
    "\tGROUP BY catalog,bucket\n",
    "\tORDER BY COUNT(size) DESC;\n",
    "\"\"\")"
   ]
  },
  {
   "cell_type": "code",
   "execution_count": null,
   "metadata": {},
   "outputs": [],
   "source": [
    "# COUNT per bucket \n",
    "client.execute(\"\"\"\n",
    "\tSELECT catalog,bucket,COUNT(size)\n",
    "\tFROM nsdf.catalog\n",
    "\tGROUP BY catalog,bucket\n",
    "\tORDER BY COUNT(size) DESC;\n",
    "\"\"\")"
   ]
  },
  {
   "cell_type": "code",
   "execution_count": null,
   "metadata": {},
   "outputs": [],
   "source": [
    "# file size distribution \n",
    "client.execute(\"\"\"\n",
    "\tSELECT size\n",
    "\tFROM nsdf.catalog\n",
    "\tWHERE catalog='mc' and bucket='102'\n",
    "\tORDER BY size ASC;\n",
    "\"\"\")"
   ]
  },
  {
   "cell_type": "code",
   "execution_count": null,
   "metadata": {},
   "outputs": [],
   "source": [
    "# delete records\n",
    "# ALTER TABLE nsdf.catalog DELETE WHERE 1=1;"
   ]
  },
  {
   "cell_type": "code",
   "execution_count": 23,
   "metadata": {},
   "outputs": [
    {
     "data": {
      "text/plain": [
       "[('h5',),\n",
       " ('h5',),\n",
       " ('h5',),\n",
       " ('h5',),\n",
       " ('h5',),\n",
       " ('h5',),\n",
       " ('h5',),\n",
       " ('h5',),\n",
       " ('h5',),\n",
       " ('h5',)]"
      ]
     },
     "execution_count": 23,
     "metadata": {},
     "output_type": "execute_result"
    }
   ],
   "source": [
    "# get extension\n",
    "client.execute(\"\"\"\n",
    "\tSELECT splitByChar('.','giorgio.scorzelli.h5')[-1]\n",
    "\tFROM nsdf.catalog             \n",
    "\tORDER BY size DESC\n",
    "\tLIMIT 10\n",
    "\"\"\")"
   ]
  },
  {
   "cell_type": "code",
   "execution_count": 32,
   "metadata": {},
   "outputs": [],
   "source": [
    "import yaml\n",
    "\n",
    "from bokeh.layouts import row,column\n",
    "from bokeh.models.widgets import Div\n",
    "from bokeh.models import ColumnDataSource, Slider , Dropdown, Select, DataTable,TableColumn, Button, Dropdown\n",
    "from bokeh.plotting import figure, curdoc\n",
    "from bokeh.themes import Theme\n",
    "from bokeh.io import show, output_notebook, curdoc\n",
    "from bokeh.sampledata.sea_surface_temperature import sea_surface_temperature\n",
    "\n",
    "from IPython.display import clear_output\n",
    "from IPython.display import IFrame\n",
    "\n",
    "import requests\n",
    "from requests.exceptions import HTTPError\n",
    "\n",
    "def in_notebook():\n",
    "\tfrom IPython import get_ipython\n",
    "\treturn True if get_ipython() else False"
   ]
  },
  {
   "cell_type": "code",
   "execution_count": 33,
   "metadata": {},
   "outputs": [
    {
     "data": {
      "text/html": [
       "<div class=\"bk-root\">\n",
       "        <a href=\"https://bokeh.org\" target=\"_blank\" class=\"bk-logo bk-logo-small bk-logo-notebook\"></a>\n",
       "        <span id=\"1004\">Loading BokehJS ...</span>\n",
       "    </div>\n"
      ]
     },
     "metadata": {},
     "output_type": "display_data"
    },
    {
     "data": {
      "application/javascript": "(function(root) {\n  function now() {\n    return new Date();\n  }\n\n  const force = true;\n\n  if (typeof root._bokeh_onload_callbacks === \"undefined\" || force === true) {\n    root._bokeh_onload_callbacks = [];\n    root._bokeh_is_loading = undefined;\n  }\n\nconst JS_MIME_TYPE = 'application/javascript';\n  const HTML_MIME_TYPE = 'text/html';\n  const EXEC_MIME_TYPE = 'application/vnd.bokehjs_exec.v0+json';\n  const CLASS_NAME = 'output_bokeh rendered_html';\n\n  /**\n   * Render data to the DOM node\n   */\n  function render(props, node) {\n    const script = document.createElement(\"script\");\n    node.appendChild(script);\n  }\n\n  /**\n   * Handle when an output is cleared or removed\n   */\n  function handleClearOutput(event, handle) {\n    const cell = handle.cell;\n\n    const id = cell.output_area._bokeh_element_id;\n    const server_id = cell.output_area._bokeh_server_id;\n    // Clean up Bokeh references\n    if (id != null && id in Bokeh.index) {\n      Bokeh.index[id].model.document.clear();\n      delete Bokeh.index[id];\n    }\n\n    if (server_id !== undefined) {\n      // Clean up Bokeh references\n      const cmd_clean = \"from bokeh.io.state import curstate; print(curstate().uuid_to_server['\" + server_id + \"'].get_sessions()[0].document.roots[0]._id)\";\n      cell.notebook.kernel.execute(cmd_clean, {\n        iopub: {\n          output: function(msg) {\n            const id = msg.content.text.trim();\n            if (id in Bokeh.index) {\n              Bokeh.index[id].model.document.clear();\n              delete Bokeh.index[id];\n            }\n          }\n        }\n      });\n      // Destroy server and session\n      const cmd_destroy = \"import bokeh.io.notebook as ion; ion.destroy_server('\" + server_id + \"')\";\n      cell.notebook.kernel.execute(cmd_destroy);\n    }\n  }\n\n  /**\n   * Handle when a new output is added\n   */\n  function handleAddOutput(event, handle) {\n    const output_area = handle.output_area;\n    const output = handle.output;\n\n    // limit handleAddOutput to display_data with EXEC_MIME_TYPE content only\n    if ((output.output_type != \"display_data\") || (!Object.prototype.hasOwnProperty.call(output.data, EXEC_MIME_TYPE))) {\n      return\n    }\n\n    const toinsert = output_area.element.find(\".\" + CLASS_NAME.split(' ')[0]);\n\n    if (output.metadata[EXEC_MIME_TYPE][\"id\"] !== undefined) {\n      toinsert[toinsert.length - 1].firstChild.textContent = output.data[JS_MIME_TYPE];\n      // store reference to embed id on output_area\n      output_area._bokeh_element_id = output.metadata[EXEC_MIME_TYPE][\"id\"];\n    }\n    if (output.metadata[EXEC_MIME_TYPE][\"server_id\"] !== undefined) {\n      const bk_div = document.createElement(\"div\");\n      bk_div.innerHTML = output.data[HTML_MIME_TYPE];\n      const script_attrs = bk_div.children[0].attributes;\n      for (let i = 0; i < script_attrs.length; i++) {\n        toinsert[toinsert.length - 1].firstChild.setAttribute(script_attrs[i].name, script_attrs[i].value);\n        toinsert[toinsert.length - 1].firstChild.textContent = bk_div.children[0].textContent\n      }\n      // store reference to server id on output_area\n      output_area._bokeh_server_id = output.metadata[EXEC_MIME_TYPE][\"server_id\"];\n    }\n  }\n\n  function register_renderer(events, OutputArea) {\n\n    function append_mime(data, metadata, element) {\n      // create a DOM node to render to\n      const toinsert = this.create_output_subarea(\n        metadata,\n        CLASS_NAME,\n        EXEC_MIME_TYPE\n      );\n      this.keyboard_manager.register_events(toinsert);\n      // Render to node\n      const props = {data: data, metadata: metadata[EXEC_MIME_TYPE]};\n      render(props, toinsert[toinsert.length - 1]);\n      element.append(toinsert);\n      return toinsert\n    }\n\n    /* Handle when an output is cleared or removed */\n    events.on('clear_output.CodeCell', handleClearOutput);\n    events.on('delete.Cell', handleClearOutput);\n\n    /* Handle when a new output is added */\n    events.on('output_added.OutputArea', handleAddOutput);\n\n    /**\n     * Register the mime type and append_mime function with output_area\n     */\n    OutputArea.prototype.register_mime_type(EXEC_MIME_TYPE, append_mime, {\n      /* Is output safe? */\n      safe: true,\n      /* Index of renderer in `output_area.display_order` */\n      index: 0\n    });\n  }\n\n  // register the mime type if in Jupyter Notebook environment and previously unregistered\n  if (root.Jupyter !== undefined) {\n    const events = require('base/js/events');\n    const OutputArea = require('notebook/js/outputarea').OutputArea;\n\n    if (OutputArea.prototype.mime_types().indexOf(EXEC_MIME_TYPE) == -1) {\n      register_renderer(events, OutputArea);\n    }\n  }\n  if (typeof (root._bokeh_timeout) === \"undefined\" || force === true) {\n    root._bokeh_timeout = Date.now() + 5000;\n    root._bokeh_failed_load = false;\n  }\n\n  const NB_LOAD_WARNING = {'data': {'text/html':\n     \"<div style='background-color: #fdd'>\\n\"+\n     \"<p>\\n\"+\n     \"BokehJS does not appear to have successfully loaded. If loading BokehJS from CDN, this \\n\"+\n     \"may be due to a slow or bad network connection. Possible fixes:\\n\"+\n     \"</p>\\n\"+\n     \"<ul>\\n\"+\n     \"<li>re-rerun `output_notebook()` to attempt to load from CDN again, or</li>\\n\"+\n     \"<li>use INLINE resources instead, as so:</li>\\n\"+\n     \"</ul>\\n\"+\n     \"<code>\\n\"+\n     \"from bokeh.resources import INLINE\\n\"+\n     \"output_notebook(resources=INLINE)\\n\"+\n     \"</code>\\n\"+\n     \"</div>\"}};\n\n  function display_loaded() {\n    const el = document.getElementById(\"1004\");\n    if (el != null) {\n      el.textContent = \"BokehJS is loading...\";\n    }\n    if (root.Bokeh !== undefined) {\n      if (el != null) {\n        el.textContent = \"BokehJS \" + root.Bokeh.version + \" successfully loaded.\";\n      }\n    } else if (Date.now() < root._bokeh_timeout) {\n      setTimeout(display_loaded, 100)\n    }\n  }\n\n  function run_callbacks() {\n    try {\n      root._bokeh_onload_callbacks.forEach(function(callback) {\n        if (callback != null)\n          callback();\n      });\n    } finally {\n      delete root._bokeh_onload_callbacks\n    }\n    console.debug(\"Bokeh: all callbacks have finished\");\n  }\n\n  function load_libs(css_urls, js_urls, callback) {\n    if (css_urls == null) css_urls = [];\n    if (js_urls == null) js_urls = [];\n\n    root._bokeh_onload_callbacks.push(callback);\n    if (root._bokeh_is_loading > 0) {\n      console.debug(\"Bokeh: BokehJS is being loaded, scheduling callback at\", now());\n      return null;\n    }\n    if (js_urls == null || js_urls.length === 0) {\n      run_callbacks();\n      return null;\n    }\n    console.debug(\"Bokeh: BokehJS not loaded, scheduling load and callback at\", now());\n    root._bokeh_is_loading = css_urls.length + js_urls.length;\n\n    function on_load() {\n      root._bokeh_is_loading--;\n      if (root._bokeh_is_loading === 0) {\n        console.debug(\"Bokeh: all BokehJS libraries/stylesheets loaded\");\n        run_callbacks()\n      }\n    }\n\n    function on_error(url) {\n      console.error(\"failed to load \" + url);\n    }\n\n    for (let i = 0; i < css_urls.length; i++) {\n      const url = css_urls[i];\n      const element = document.createElement(\"link\");\n      element.onload = on_load;\n      element.onerror = on_error.bind(null, url);\n      element.rel = \"stylesheet\";\n      element.type = \"text/css\";\n      element.href = url;\n      console.debug(\"Bokeh: injecting link tag for BokehJS stylesheet: \", url);\n      document.body.appendChild(element);\n    }\n\n    for (let i = 0; i < js_urls.length; i++) {\n      const url = js_urls[i];\n      const element = document.createElement('script');\n      element.onload = on_load;\n      element.onerror = on_error.bind(null, url);\n      element.async = false;\n      element.src = url;\n      console.debug(\"Bokeh: injecting script tag for BokehJS library: \", url);\n      document.head.appendChild(element);\n    }\n  };\n\n  function inject_raw_css(css) {\n    const element = document.createElement(\"style\");\n    element.appendChild(document.createTextNode(css));\n    document.body.appendChild(element);\n  }\n\n  const js_urls = [\"https://cdn.bokeh.org/bokeh/release/bokeh-2.4.3.min.js\", \"https://cdn.bokeh.org/bokeh/release/bokeh-gl-2.4.3.min.js\", \"https://cdn.bokeh.org/bokeh/release/bokeh-widgets-2.4.3.min.js\", \"https://cdn.bokeh.org/bokeh/release/bokeh-tables-2.4.3.min.js\", \"https://cdn.bokeh.org/bokeh/release/bokeh-mathjax-2.4.3.min.js\"];\n  const css_urls = [];\n\n  const inline_js = [    function(Bokeh) {\n      Bokeh.set_log_level(\"info\");\n    },\nfunction(Bokeh) {\n    }\n  ];\n\n  function run_inline_js() {\n    if (root.Bokeh !== undefined || force === true) {\n          for (let i = 0; i < inline_js.length; i++) {\n      inline_js[i].call(root, root.Bokeh);\n    }\nif (force === true) {\n        display_loaded();\n      }} else if (Date.now() < root._bokeh_timeout) {\n      setTimeout(run_inline_js, 100);\n    } else if (!root._bokeh_failed_load) {\n      console.log(\"Bokeh: BokehJS failed to load within specified timeout.\");\n      root._bokeh_failed_load = true;\n    } else if (force !== true) {\n      const cell = $(document.getElementById(\"1004\")).parents('.cell').data().cell;\n      cell.output_area.append_execute_result(NB_LOAD_WARNING)\n    }\n  }\n\n  if (root._bokeh_is_loading === 0) {\n    console.debug(\"Bokeh: BokehJS loaded, going straight to plotting\");\n    run_inline_js();\n  } else {\n    load_libs(css_urls, js_urls, function() {\n      console.debug(\"Bokeh: BokehJS plotting callback run at\", now());\n      run_inline_js();\n    });\n  }\n}(window));",
      "application/vnd.bokehjs_load.v0+json": ""
     },
     "metadata": {},
     "output_type": "display_data"
    }
   ],
   "source": [
    "if in_notebook():\n",
    "\toutput_notebook()"
   ]
  },
  {
   "cell_type": "code",
   "execution_count": 34,
   "metadata": {},
   "outputs": [],
   "source": [
    "repository_table2=[]\n",
    "for name,count,size in repository_table:\n",
    "\trepository_table2.append([\n",
    "\t\tname,\n",
    "\t\tformat(count, \",\").rjust(11,'_') + \" (\"+AddSuffix(count, type=\"\", base=1000).ljust(7)+\")\",\n",
    "\t\tformat(size , \",\").rjust(23,'_') + \" (\"+AddSuffix (size ,type=\"B\",base=1024).ljust(7)+\")\"])\n",
    "\n",
    "query_result = GetFileNames(catalog = None,group_buckets = True, group_suffix = False)  \n",
    "\n",
    "CurrentValues     = {\n",
    "\t\"filter\": \"File_type\",\n",
    "\t\"repository\": \"all repositories\"\n",
    "}\n",
    "\n",
    "# /////////////////////////////////////////////////////////////////////\n",
    "def modify_doc(doc):\n",
    "\n",
    "\tdf = sea_surface_temperature.copy()\n",
    "\tsource = ColumnDataSource(data = df)\n",
    "\n",
    "\tsource_table = ColumnDataSource(data = {\n",
    "\t\t\"Repository\"   : [s[0] for s in repository_table2],\n",
    "\t\t\"file count\"   : [s[1] for s in repository_table2],\n",
    "\t\t\"total storage\": [s[2] for s in repository_table2],\n",
    "\t\t})\n",
    "\n",
    "\tbutton = Button(label=\" \", button_type=\"success\", height = 30)\n",
    "\n",
    "\tdropdown = Dropdown(label=\"Grouping\", button_type=\"warning\", menu=[\n",
    "\t\t(\"None\", \"None\"), \n",
    "\t\t(\"Bucket\", \"Bucket\"), \n",
    "\t\t(\"File_type\", \"File_type\")\n",
    "\t])\n",
    "\n",
    "\tdf2 = sea_surface_temperature.copy()\n",
    "\tsource2 = ColumnDataSource(data = df2)\n",
    "\n",
    "\tsource_table2 = ColumnDataSource(data = {\n",
    "\t\t\"repository\": [s[0] for s in query_result[1]],\n",
    "\t\t\"project\"   : [s[1] for s in query_result[1]],\n",
    "\t\t\"file type\" : [s[2] for s in query_result[1]],\n",
    "\t\t\"file count\": [s[3] for s in query_result[1]],\n",
    "\t\t\"storage\"   : [s[4] for s in query_result[1]]\n",
    "\t})\n",
    "\n",
    "\tplot = figure(\n",
    "\t\tx_axis_type = 'datetime', \n",
    "\t\ty_range = (0, 25),\n",
    "\t\ty_axis_label = 'Temperature (Celsius)',\n",
    "\t\ttitle = \"Sea Surface Temperature at 43.18, -70.43\")\n",
    "\n",
    "\tplot.line('time', 'temperature', source = source)\n",
    "\n",
    "\ttable = DataTable(\n",
    "\t\tsource = source_table,\n",
    "\t\theight=220,\n",
    "\t\tcolumns = [\n",
    "\t\t\tTableColumn(field = \"Repository\", title = \"Repository\"),\n",
    "\t\t\tTableColumn(field = \"file count\", title = \"file count\"),\n",
    "\t\t\tTableColumn(field = \"total storage\", title = \"total storage\")\n",
    "\t\t])\n",
    "\n",
    "\ttable2 = DataTable(\n",
    "\t\tsource = source_table2,\n",
    "\t\tcolumns = [\n",
    "\t\t\tTableColumn(field = \"repository\" , title = \"repository\"),\n",
    "\t\t\tTableColumn(field = \"project\"\t, title = \"project\"   ),\n",
    "\t\t\tTableColumn(field = \"file type\"  , title = \"file type\"   ),\n",
    "\t\t\tTableColumn(field = \"file count\" , title = \"file count\"   ),\n",
    "\t\t\tTableColumn(field = \"storage\"\t, title = \"storage\"   )\n",
    "\t\t])\n",
    "\n",
    "\tdef update_table2 ():\n",
    "\t\tpass\n",
    "\n",
    "\tdef UpdateTable():\n",
    "\n",
    "\t\tcatalog=None if CurrentValues[\"repository\"]== \"all repositories\" else CurrentValues[\"repository\"]\n",
    "\n",
    "\t\tquery_result = GetFileNames(catalog = catalog, group_buckets = False, group_suffix  = False)   \n",
    "\t\t\t\n",
    "\t\tsource_table2.data = {\n",
    "\t\t\t\"repository\": [s[0] for s in query_result[1]],\n",
    "\t\t\t\"project\"   : [s[1] for s in query_result[1]],\n",
    "\t\t\t\"file type\" : [s[2] for s in query_result[1]],\n",
    "\t\t\t\"file count\": [s[3] for s in query_result[1]],\n",
    "\t\t\t\"storage\"   : [s[4] for s in query_result[1]]}\n",
    "\n",
    "\t\n",
    "\tdef callback(attr, old, new, button = button):  \n",
    "\t\tprint(dropdown.menu,dropdown.select,dropdown.label,dropdown.name)\n",
    "\t\t#rint(dropdown.menu,dropdown.item)\n",
    "\t\tbutton.label = repository_table[new[0]][0]\n",
    "\t\tCurrentValues[\"repository\"] = repository_table[new[0]][0]\n",
    "\n",
    "\t\tcatalog=None if repository_table[new[0]][0]== \"all repositories\" else repository_table[new[0]][0]\n",
    "\n",
    "\t\tquery_result = GetFileNames(catalog = catalog, group_buckets = False,  group_suffix = False)   \n",
    "\n",
    "\t\tsource_table2.data = {\n",
    "\t\t\t\"repository\": [s[0] for s in query_result[1]],\n",
    "\t\t\t\"project\"   : [s[1] for s in query_result[1]],\n",
    "\t\t\t\"file type\" : [s[2] for s in query_result[1]],\n",
    "\t\t\t\"file count\": [s[3] for s in query_result[1]],\n",
    "\t\t\t\"storage\"   : [s[4] for s in query_result[1]]}\n",
    "\t\t\n",
    "\tsource_table.selected.on_change('indices', callback)\n",
    "\n",
    "#\t dropdown.on_click('value',callbackdd)\n",
    "\tdef handler(event):\n",
    "\t\tprint (CurrentValues[\"filter\"])\n",
    "\t\tprint(event.item)\n",
    "\t\tCurrentValues[\"filter\"]\t = event.item\n",
    "\t\tprint (CurrentValues[\"filter\"])\n",
    "\t\tUpdateTable()\n",
    "\n",
    "\tdropdown.on_click(handler)\t\n",
    "\n",
    "\tdoc.add_root(column(table,button, dropdown,table2))"
   ]
  },
  {
   "cell_type": "code",
   "execution_count": 35,
   "metadata": {},
   "outputs": [
    {
     "data": {
      "application/vnd.bokehjs_exec.v0+json": "",
      "text/html": [
       "<script id=\"1005\">\n",
       "  (function() {\n",
       "    const xhr = new XMLHttpRequest()\n",
       "    xhr.responseType = 'blob';\n",
       "    xhr.open('GET', \"http://localhost:33521/autoload.js?bokeh-autoload-element=1005&bokeh-absolute-url=http://localhost:33521&resources=none\", true);\n",
       "    xhr.onload = function (event) {\n",
       "      const script = document.createElement('script');\n",
       "      const src = URL.createObjectURL(event.target.response);\n",
       "      script.src = src;\n",
       "      document.body.appendChild(script);\n",
       "    };\n",
       "    xhr.send();\n",
       "  })();\n",
       "</script>"
      ]
     },
     "metadata": {
      "application/vnd.bokehjs_exec.v0+json": {
       "server_id": "7418cc1200614dbca9abab24104c2faa"
      }
     },
     "output_type": "display_data"
    }
   ],
   "source": [
    "show(modify_doc)"
   ]
  },
  {
   "cell_type": "code",
   "execution_count": 36,
   "metadata": {},
   "outputs": [],
   "source": [
    "import os\n",
    "# If needed uncomment the next line to Set environment variables based on warning from previous cell\n",
    "#os.environ['BOKEH_ALLOW_WS_ORIGIN'] = 'localhost:8889'"
   ]
  },
  {
   "cell_type": "code",
   "execution_count": null,
   "metadata": {},
   "outputs": [],
   "source": []
  }
 ],
 "metadata": {
  "kernelspec": {
   "display_name": "Python 3.8.10 64-bit",
   "language": "python",
   "name": "python3"
  },
  "language_info": {
   "codemirror_mode": {
    "name": "ipython",
    "version": 3
   },
   "file_extension": ".py",
   "mimetype": "text/x-python",
   "name": "python",
   "nbconvert_exporter": "python",
   "pygments_lexer": "ipython3",
   "version": "3.8.10"
  },
  "orig_nbformat": 4,
  "vscode": {
   "interpreter": {
    "hash": "916dbcbb3f70747c44a77c7bcd40155683ae19c65e1c03b4aa3499c5328201f1"
   }
  }
 },
 "nbformat": 4,
 "nbformat_minor": 2
}
